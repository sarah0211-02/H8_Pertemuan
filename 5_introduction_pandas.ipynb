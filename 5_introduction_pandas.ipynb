{
 "cells": [
  {
   "cell_type": "code",
   "execution_count": 1,
   "metadata": {},
   "outputs": [
    {
     "name": "stdout",
     "output_type": "stream",
     "text": [
      "Requirement already satisfied: pandas in c:\\users\\syahr\\appdata\\local\\programs\\python\\python310\\lib\\site-packages (1.4.4)\n",
      "Requirement already satisfied: numpy>=1.21.0 in c:\\users\\syahr\\appdata\\local\\programs\\python\\python310\\lib\\site-packages (from pandas) (1.23.2)\n",
      "Requirement already satisfied: python-dateutil>=2.8.1 in c:\\users\\syahr\\appdata\\local\\programs\\python\\python310\\lib\\site-packages (from pandas) (2.8.2)\n",
      "Requirement already satisfied: pytz>=2020.1 in c:\\users\\syahr\\appdata\\local\\programs\\python\\python310\\lib\\site-packages (from pandas) (2022.2.1)\n",
      "Requirement already satisfied: six>=1.5 in c:\\users\\syahr\\appdata\\local\\programs\\python\\python310\\lib\\site-packages (from python-dateutil>=2.8.1->pandas) (1.16.0)\n",
      "Note: you may need to restart the kernel to use updated packages.\n"
     ]
    }
   ],
   "source": [
    "pip install pandas\n"
   ]
  },
  {
   "cell_type": "code",
   "execution_count": 2,
   "metadata": {},
   "outputs": [
    {
     "name": "stdout",
     "output_type": "stream",
     "text": [
      "Series([], dtype: float64)\n"
     ]
    },
    {
     "name": "stderr",
     "output_type": "stream",
     "text": [
      "C:\\Users\\syahr\\AppData\\Local\\Temp\\ipykernel_3064\\215323928.py:2: FutureWarning: The default dtype for empty Series will be 'object' instead of 'float64' in a future version. Specify a dtype explicitly to silence this warning.\n",
      "  var=pd.Series()\n"
     ]
    }
   ],
   "source": [
    "import pandas as pd\n",
    "var=pd.Series()\n",
    "print(var)"
   ]
  },
  {
   "cell_type": "code",
   "execution_count": 6,
   "metadata": {},
   "outputs": [
    {
     "name": "stdout",
     "output_type": "stream",
     "text": [
      "0    x\n",
      "1    y\n",
      "2    z\n",
      "3    a\n",
      "4    b\n",
      "dtype: object\n"
     ]
    }
   ],
   "source": [
    "#membuat series ndaaray tanpa index\n",
    "import pandas as pd\n",
    "import numpy as np\n",
    "datanp=np.array(['x','y','z','a','b'])\n",
    "dts =pd.Series(datanp)\n",
    "print(dts)"
   ]
  },
  {
   "cell_type": "code",
   "execution_count": 8,
   "metadata": {},
   "outputs": [
    {
     "name": "stdout",
     "output_type": "stream",
     "text": [
      "10    a\n",
      "11    b\n",
      "12    c\n",
      "13    d\n",
      "14    e\n",
      "15    f\n",
      "dtype: object\n"
     ]
    }
   ],
   "source": [
    "datanp=np.array(['a','b','c','d','e','f'])\n",
    "dts=pd.Series(datanp,index=[10,11,12,13,14,15])\n",
    "print(dts)"
   ]
  },
  {
   "cell_type": "code",
   "execution_count": 13,
   "metadata": {},
   "outputs": [
    {
     "name": "stdout",
     "output_type": "stream",
     "text": [
      "a     0.7\n",
      "b     2.0\n",
      "c     1.5\n",
      "d    10.0\n",
      "dtype: float64\n"
     ]
    }
   ],
   "source": [
    "#pandas series dengan dictionary\n",
    "datadict={'a':0.7,'b':2.,'c':1.5,'d':10}\n",
    "dtsdict=pd.Series(datadict)\n",
    "print(dtsdict)"
   ]
  },
  {
   "cell_type": "code",
   "execution_count": 15,
   "metadata": {},
   "outputs": [
    {
     "name": "stdout",
     "output_type": "stream",
     "text": [
      "0     5\n",
      "1     5\n",
      "2     5\n",
      "3     5\n",
      "4     5\n",
      "5     5\n",
      "6     5\n",
      "7     5\n",
      "8     5\n",
      "9     5\n",
      "10    5\n",
      "11    5\n",
      "dtype: int64\n"
     ]
    }
   ],
   "source": [
    "dtsscalar=pd.Series(5,index=[0,1,2,3,4,5,6,7,8,9,10,11])\n",
    "print(dtsscalar)"
   ]
  },
  {
   "cell_type": "code",
   "execution_count": 3,
   "metadata": {},
   "outputs": [
    {
     "ename": "NameError",
     "evalue": "name 'np' is not defined",
     "output_type": "error",
     "traceback": [
      "\u001b[1;31m---------------------------------------------------------------------------\u001b[0m",
      "\u001b[1;31mNameError\u001b[0m                                 Traceback (most recent call last)",
      "\u001b[1;32md:\\pemrograman\\00- tempjupyter\\5_introduction_pandas.ipynb Cell 7\u001b[0m in \u001b[0;36m<cell line: 2>\u001b[1;34m()\u001b[0m\n\u001b[0;32m      <a href='vscode-notebook-cell:/d%3A/pemrograman/00-%20tempjupyter/5_introduction_pandas.ipynb#X11sZmlsZQ%3D%3D?line=0'>1</a>\u001b[0m \u001b[39m#cara mengambil data\u001b[39;00m\n\u001b[1;32m----> <a href='vscode-notebook-cell:/d%3A/pemrograman/00-%20tempjupyter/5_introduction_pandas.ipynb#X11sZmlsZQ%3D%3D?line=1'>2</a>\u001b[0m datanp\u001b[39m=\u001b[39mnp\u001b[39m.\u001b[39marray([\u001b[39m'\u001b[39m\u001b[39ma\u001b[39m\u001b[39m'\u001b[39m,\u001b[39m'\u001b[39m\u001b[39mb\u001b[39m\u001b[39m'\u001b[39m,\u001b[39m'\u001b[39m\u001b[39mc\u001b[39m\u001b[39m'\u001b[39m,\u001b[39m'\u001b[39m\u001b[39md\u001b[39m\u001b[39m'\u001b[39m,\u001b[39m'\u001b[39m\u001b[39me\u001b[39m\u001b[39m'\u001b[39m,\u001b[39m'\u001b[39m\u001b[39mf\u001b[39m\u001b[39m'\u001b[39m])\n\u001b[0;32m      <a href='vscode-notebook-cell:/d%3A/pemrograman/00-%20tempjupyter/5_introduction_pandas.ipynb#X11sZmlsZQ%3D%3D?line=2'>3</a>\u001b[0m dts\u001b[39m=\u001b[39mpd\u001b[39m.\u001b[39mSeries(datanp)\n\u001b[0;32m      <a href='vscode-notebook-cell:/d%3A/pemrograman/00-%20tempjupyter/5_introduction_pandas.ipynb#X11sZmlsZQ%3D%3D?line=3'>4</a>\u001b[0m \u001b[39mprint\u001b[39m(dts)\n",
      "\u001b[1;31mNameError\u001b[0m: name 'np' is not defined"
     ]
    }
   ],
   "source": [
    "#cara mengambil data\n",
    "datanp=np.array(['a','b','c','d','e','f'])\n",
    "dts=pd.Series(datanp)\n",
    "print(dts)"
   ]
  },
  {
   "cell_type": "markdown",
   "metadata": {},
   "source": [
    "data frame"
   ]
  },
  {
   "cell_type": "code",
   "execution_count": 14,
   "metadata": {},
   "outputs": [
    {
     "ename": "TypeError",
     "evalue": "'DataFrame' object is not callable",
     "output_type": "error",
     "traceback": [
      "\u001b[1;31m---------------------------------------------------------------------------\u001b[0m",
      "\u001b[1;31mTypeError\u001b[0m                                 Traceback (most recent call last)",
      "\u001b[1;32md:\\pemrograman\\00- tempjupyter\\5_introduction_pandas.ipynb Cell 9\u001b[0m in \u001b[0;36m<cell line: 2>\u001b[1;34m()\u001b[0m\n\u001b[0;32m      <a href='vscode-notebook-cell:/d%3A/pemrograman/00-%20tempjupyter/5_introduction_pandas.ipynb#X15sZmlsZQ%3D%3D?line=0'>1</a>\u001b[0m dfangka\u001b[39m=\u001b[39mpd\u001b[39m.\u001b[39mDataFrame({\u001b[39m'\u001b[39m\u001b[39mx\u001b[39m\u001b[39m'\u001b[39m:[\u001b[39m1\u001b[39m,\u001b[39m2\u001b[39m],\u001b[39m'\u001b[39m\u001b[39my\u001b[39m\u001b[39m'\u001b[39m:[\u001b[39m10\u001b[39m,\u001b[39m30\u001b[39m]})\n\u001b[1;32m----> <a href='vscode-notebook-cell:/d%3A/pemrograman/00-%20tempjupyter/5_introduction_pandas.ipynb#X15sZmlsZQ%3D%3D?line=1'>2</a>\u001b[0m \u001b[39mprint\u001b[39;49m(dfangka)\n",
      "\u001b[1;31mTypeError\u001b[0m: 'DataFrame' object is not callable"
     ]
    }
   ],
   "source": [
    "dfangka=pd.DataFrame({'x':[1,2],'y':[10,30]})\n",
    "print(dfangka)"
   ]
  },
  {
   "cell_type": "code",
   "execution_count": 11,
   "metadata": {},
   "outputs": [
    {
     "ename": "TypeError",
     "evalue": "'DataFrame' object is not callable",
     "output_type": "error",
     "traceback": [
      "\u001b[1;31m---------------------------------------------------------------------------\u001b[0m",
      "\u001b[1;31mTypeError\u001b[0m                                 Traceback (most recent call last)",
      "\u001b[1;32md:\\pemrograman\\00- tempjupyter\\5_introduction_pandas.ipynb Cell 10\u001b[0m in \u001b[0;36m<cell line: 4>\u001b[1;34m()\u001b[0m\n\u001b[0;32m      <a href='vscode-notebook-cell:/d%3A/pemrograman/00-%20tempjupyter/5_introduction_pandas.ipynb#X16sZmlsZQ%3D%3D?line=1'>2</a>\u001b[0m     \u001b[39mreturn\u001b[39;00m x\u001b[39m*\u001b[39mx\n\u001b[0;32m      <a href='vscode-notebook-cell:/d%3A/pemrograman/00-%20tempjupyter/5_introduction_pandas.ipynb#X16sZmlsZQ%3D%3D?line=2'>3</a>\u001b[0m dfsquare\u001b[39m=\u001b[39mdfangka\u001b[39m.\u001b[39mapply(square)\n\u001b[1;32m----> <a href='vscode-notebook-cell:/d%3A/pemrograman/00-%20tempjupyter/5_introduction_pandas.ipynb#X16sZmlsZQ%3D%3D?line=3'>4</a>\u001b[0m \u001b[39mprint\u001b[39;49m(dfsquare)\n",
      "\u001b[1;31mTypeError\u001b[0m: 'DataFrame' object is not callable"
     ]
    }
   ],
   "source": [
    "def square(x):\n",
    "    return x*x\n",
    "\n",
    "dfsquare=dfangka.apply(square)\n",
    "print(dfsquare)"
   ]
  }
 ],
 "metadata": {
  "kernelspec": {
   "display_name": "Python 3.10.6 64-bit",
   "language": "python",
   "name": "python3"
  },
  "language_info": {
   "codemirror_mode": {
    "name": "ipython",
    "version": 3
   },
   "file_extension": ".py",
   "mimetype": "text/x-python",
   "name": "python",
   "nbconvert_exporter": "python",
   "pygments_lexer": "ipython3",
   "version": "3.10.6"
  },
  "orig_nbformat": 4,
  "vscode": {
   "interpreter": {
    "hash": "1816df964e8ff343ce19c0319b2f71aa7e805eab2dbd7f52b737ef58bbf6a38f"
   }
  }
 },
 "nbformat": 4,
 "nbformat_minor": 2
}
