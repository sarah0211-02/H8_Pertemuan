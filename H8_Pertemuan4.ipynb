{
  "nbformat": 4,
  "nbformat_minor": 0,
  "metadata": {
    "colab": {
      "provenance": [],
      "authorship_tag": "ABX9TyMurZVkIsl2ngnYJAOvLeno",
      "include_colab_link": true
    },
    "kernelspec": {
      "name": "python3",
      "display_name": "Python 3"
    },
    "language_info": {
      "name": "python"
    }
  },
  "cells": [
    {
      "cell_type": "markdown",
      "metadata": {
        "id": "view-in-github",
        "colab_type": "text"
      },
      "source": [
        "<a href=\"https://colab.research.google.com/github/sarah0211-02/H8_Pertemuan/blob/master/H8_Pertemuan4.ipynb\" target=\"_parent\"><img src=\"https://colab.research.google.com/assets/colab-badge.svg\" alt=\"Open In Colab\"/></a>"
      ]
    },
    {
      "cell_type": "markdown",
      "source": [
        "#Numpy\n",
        "\n",
        "Oleh: Syahrani Nabilla Pardede (PYTN-KS08-013)"
      ],
      "metadata": {
        "id": "pC9NbTlZXtZi"
      }
    },
    {
      "cell_type": "markdown",
      "source": [
        "##Install Numpy"
      ],
      "metadata": {
        "id": "_Uuhz-aOX7qC"
      }
    },
    {
      "cell_type": "code",
      "execution_count": 1,
      "metadata": {
        "colab": {
          "base_uri": "https://localhost:8080/"
        },
        "id": "PYl4A4PrXeEv",
        "outputId": "7d2b1997-9e43-4fe2-846f-0e3a64974bef"
      },
      "outputs": [
        {
          "output_type": "stream",
          "name": "stdout",
          "text": [
            "Looking in indexes: https://pypi.org/simple, https://us-python.pkg.dev/colab-wheels/public/simple/\n",
            "Requirement already satisfied: numpy in /usr/local/lib/python3.8/dist-packages (1.21.6)\n"
          ]
        }
      ],
      "source": [
        "!pip install numpy"
      ]
    },
    {
      "cell_type": "code",
      "source": [
        "import numpy as np\n",
        "np.__version__"
      ],
      "metadata": {
        "colab": {
          "base_uri": "https://localhost:8080/",
          "height": 36
        },
        "id": "Kkmxc1wjYJcN",
        "outputId": "bc47060d-7083-417c-878c-77aac03ae235"
      },
      "execution_count": 2,
      "outputs": [
        {
          "output_type": "execute_result",
          "data": {
            "text/plain": [
              "'1.21.6'"
            ],
            "application/vnd.google.colaboratory.intrinsic+json": {
              "type": "string"
            }
          },
          "metadata": {},
          "execution_count": 2
        }
      ]
    },
    {
      "cell_type": "markdown",
      "source": [
        "##Array"
      ],
      "metadata": {
        "id": "w54EpwHLYSEx"
      }
    },
    {
      "cell_type": "markdown",
      "source": [
        "###Membuat Sebuah Array"
      ],
      "metadata": {
        "id": "d4JOBqQLYVvj"
      }
    },
    {
      "cell_type": "code",
      "source": [
        "import numpy as np\n",
        "\n",
        "a = np.array([1, 2, 3])"
      ],
      "metadata": {
        "id": "eCo5FsQ0YYVB"
      },
      "execution_count": 3,
      "outputs": []
    },
    {
      "cell_type": "code",
      "source": [
        "a"
      ],
      "metadata": {
        "colab": {
          "base_uri": "https://localhost:8080/"
        },
        "id": "ZG_kJV-NYeU8",
        "outputId": "763c1ce6-5305-43b4-9e7c-502b2ccf2c1a"
      },
      "execution_count": 4,
      "outputs": [
        {
          "output_type": "execute_result",
          "data": {
            "text/plain": [
              "array([1, 2, 3])"
            ]
          },
          "metadata": {},
          "execution_count": 4
        }
      ]
    },
    {
      "cell_type": "code",
      "source": [
        "# Bisa membuat field array dengan 0s:\n",
        "np.zeros(6)"
      ],
      "metadata": {
        "colab": {
          "base_uri": "https://localhost:8080/"
        },
        "id": "ElK4LZ1dYhRQ",
        "outputId": "45b5dbed-c67d-482c-99e3-1cf36a33a44e"
      },
      "execution_count": 5,
      "outputs": [
        {
          "output_type": "execute_result",
          "data": {
            "text/plain": [
              "array([0., 0., 0., 0., 0., 0.])"
            ]
          },
          "metadata": {},
          "execution_count": 5
        }
      ]
    },
    {
      "cell_type": "code",
      "source": [
        "# Atau bisa juga mengisi array dengan 1s:\n",
        "np.ones(6)"
      ],
      "metadata": {
        "colab": {
          "base_uri": "https://localhost:8080/"
        },
        "id": "vkC-p7zyYlSU",
        "outputId": "459234c0-f802-4e02-f97b-b63f26bd63ef"
      },
      "execution_count": 6,
      "outputs": [
        {
          "output_type": "execute_result",
          "data": {
            "text/plain": [
              "array([1., 1., 1., 1., 1., 1.])"
            ]
          },
          "metadata": {},
          "execution_count": 6
        }
      ]
    },
    {
      "cell_type": "code",
      "source": [
        "np.empty(6)"
      ],
      "metadata": {
        "colab": {
          "base_uri": "https://localhost:8080/"
        },
        "id": "Ddapoda5Yn9-",
        "outputId": "277372f3-c649-4836-a389-b492dffe5307"
      },
      "execution_count": 7,
      "outputs": [
        {
          "output_type": "execute_result",
          "data": {
            "text/plain": [
              "array([1., 1., 1., 1., 1., 1.])"
            ]
          },
          "metadata": {},
          "execution_count": 7
        }
      ]
    },
    {
      "cell_type": "code",
      "source": [
        "# Dapat membuat array dengan berdasarkan range element tertentu\n",
        "\n",
        "print(np.arange(4))\n",
        "print(np.arange(0, 10, 2)) # Keterangan (Start, Stop, Step)"
      ],
      "metadata": {
        "colab": {
          "base_uri": "https://localhost:8080/"
        },
        "id": "NQbVrBi6YrRi",
        "outputId": "2e5dbd98-fb83-493b-c33d-07dddad7e356"
      },
      "execution_count": 8,
      "outputs": [
        {
          "output_type": "stream",
          "name": "stdout",
          "text": [
            "[0 1 2 3]\n",
            "[0 2 4 6 8]\n"
          ]
        }
      ]
    },
    {
      "cell_type": "code",
      "source": [
        "np.arange(2, 29, 5)"
      ],
      "metadata": {
        "colab": {
          "base_uri": "https://localhost:8080/"
        },
        "id": "vAGOkoVeYtvs",
        "outputId": "1ee068c6-60ef-4abc-e7fb-f99f17a3d2a2"
      },
      "execution_count": 9,
      "outputs": [
        {
          "output_type": "execute_result",
          "data": {
            "text/plain": [
              "array([ 2,  7, 12, 17, 22, 27])"
            ]
          },
          "metadata": {},
          "execution_count": 9
        }
      ]
    },
    {
      "cell_type": "markdown",
      "source": [
        "##Add, Remove and Sort"
      ],
      "metadata": {
        "id": "3QLCCB6fY0JC"
      }
    },
    {
      "cell_type": "code",
      "source": [
        "# np.append()\n",
        "# np.delete()\n",
        "# np.sort()\n",
        "\n",
        "# Jika kalian mulai dari array ini:\n",
        "\n",
        "# arr = np.array([1, 2, 3, 4, 5, 6, 7, 8])\n",
        "\n",
        "# Kalian bisa menambahkan elemen ke array kalian kapan saja dengan np.append().\n",
        "# Pastikan untuk menentukan array dan elemen yang ingin kalian sertakan"
      ],
      "metadata": {
        "id": "QyoUAAPHY95i"
      },
      "execution_count": 10,
      "outputs": []
    },
    {
      "cell_type": "code",
      "source": [
        "arr = np.array([1, 2, 3, 4, 5, 6, 7, 8])\n",
        "\n",
        "np.append(arr, [1, 2])"
      ],
      "metadata": {
        "colab": {
          "base_uri": "https://localhost:8080/"
        },
        "id": "2Gyrf_DLYzYE",
        "outputId": "e2267a12-b9c1-431c-e28c-b1f6750e1008"
      },
      "execution_count": 11,
      "outputs": [
        {
          "output_type": "execute_result",
          "data": {
            "text/plain": [
              "array([1, 2, 3, 4, 5, 6, 7, 8, 1, 2])"
            ]
          },
          "metadata": {},
          "execution_count": 11
        }
      ]
    },
    {
      "cell_type": "code",
      "source": [
        "np.delete(arr, 1)"
      ],
      "metadata": {
        "colab": {
          "base_uri": "https://localhost:8080/"
        },
        "id": "dZr0efXtZHjb",
        "outputId": "8c891c45-2edf-476d-a683-d4c986fdb68f"
      },
      "execution_count": 12,
      "outputs": [
        {
          "output_type": "execute_result",
          "data": {
            "text/plain": [
              "array([1, 3, 4, 5, 6, 7, 8])"
            ]
          },
          "metadata": {},
          "execution_count": 12
        }
      ]
    },
    {
      "cell_type": "code",
      "source": [
        "arr = np.array([2, 1, 5, 3, 7, 4, 6, 8])"
      ],
      "metadata": {
        "id": "qaVRxmIUZMBk"
      },
      "execution_count": 13,
      "outputs": []
    },
    {
      "cell_type": "code",
      "source": [
        "np.sort(arr)"
      ],
      "metadata": {
        "colab": {
          "base_uri": "https://localhost:8080/"
        },
        "id": "cugHVdFzZPpQ",
        "outputId": "b404c898-9512-4702-90a9-5efcb212da44"
      },
      "execution_count": 14,
      "outputs": [
        {
          "output_type": "execute_result",
          "data": {
            "text/plain": [
              "array([1, 2, 3, 4, 5, 6, 7, 8])"
            ]
          },
          "metadata": {},
          "execution_count": 14
        }
      ]
    },
    {
      "cell_type": "markdown",
      "source": [
        "##Shape and Size"
      ],
      "metadata": {
        "id": "escqrKIvZR_D"
      }
    },
    {
      "cell_type": "code",
      "source": [
        "# ndarray.ndim()\n",
        "# ndarray.size()\n",
        "# ndarray.shape()\n",
        "\n",
        "# Keterangan :\n",
        "# 1. ndarray.ndim akan memberi tahu kalian jumlah axes, atau dimensi dari array\n",
        "\n",
        "# 2. ndarray.size akan memberi tahu kalian jumlah total elemen array. Ini merupakan \n",
        "# produk dari elemen shaper array\n",
        "\n",
        "# 3. ndarray.shape akan menampilkan tuple integer yang menunjukkan jumlah elemen yang \n",
        "# disimpan di sepanjang setiap dimensi array."
      ],
      "metadata": {
        "id": "8Uzl7MAjZX8v"
      },
      "execution_count": 15,
      "outputs": []
    },
    {
      "cell_type": "code",
      "source": [
        "array_example = np.array([\n",
        "    [\n",
        "        [0, 1, 2, 3],\n",
        "        [4, 5, 6, 7]\n",
        "    ],\n",
        "    \n",
        "    [\n",
        "        [0, 1, 2, 3],\n",
        "        [4, 5, 6, 7]\n",
        "    ],\n",
        "    \n",
        "    [\n",
        "        [0, 1, 2, 3],\n",
        "        [4, 5, 6, 7]\n",
        "    ]\n",
        "])\n",
        "\n",
        "print(array_example)"
      ],
      "metadata": {
        "colab": {
          "base_uri": "https://localhost:8080/"
        },
        "id": "jxcYKb58ZbUR",
        "outputId": "ca021495-4e4a-4194-a95d-baed3a5e2882"
      },
      "execution_count": 16,
      "outputs": [
        {
          "output_type": "stream",
          "name": "stdout",
          "text": [
            "[[[0 1 2 3]\n",
            "  [4 5 6 7]]\n",
            "\n",
            " [[0 1 2 3]\n",
            "  [4 5 6 7]]\n",
            "\n",
            " [[0 1 2 3]\n",
            "  [4 5 6 7]]]\n"
          ]
        }
      ]
    },
    {
      "cell_type": "code",
      "source": [
        "array_example.ndim"
      ],
      "metadata": {
        "colab": {
          "base_uri": "https://localhost:8080/"
        },
        "id": "v2_LtWHfZhno",
        "outputId": "d2fca247-011e-4c40-df1e-eee1cc573d66"
      },
      "execution_count": 17,
      "outputs": [
        {
          "output_type": "execute_result",
          "data": {
            "text/plain": [
              "3"
            ]
          },
          "metadata": {},
          "execution_count": 17
        }
      ]
    },
    {
      "cell_type": "code",
      "source": [
        "array_example.size"
      ],
      "metadata": {
        "colab": {
          "base_uri": "https://localhost:8080/"
        },
        "id": "icd2bt2RZkBP",
        "outputId": "bd9feccb-e86d-4527-e921-9b042be183c6"
      },
      "execution_count": 18,
      "outputs": [
        {
          "output_type": "execute_result",
          "data": {
            "text/plain": [
              "24"
            ]
          },
          "metadata": {},
          "execution_count": 18
        }
      ]
    },
    {
      "cell_type": "code",
      "source": [
        "array_example.shape"
      ],
      "metadata": {
        "colab": {
          "base_uri": "https://localhost:8080/"
        },
        "id": "gHAwvU0QZmVS",
        "outputId": "fa365f67-f0c9-403b-c6d8-998319501434"
      },
      "execution_count": 19,
      "outputs": [
        {
          "output_type": "execute_result",
          "data": {
            "text/plain": [
              "(3, 2, 4)"
            ]
          },
          "metadata": {},
          "execution_count": 19
        }
      ]
    },
    {
      "cell_type": "code",
      "source": [
        "arr_one =np.array([[1, 2, 3, 4, 5]])"
      ],
      "metadata": {
        "id": "J2-_AAkOZpzA"
      },
      "execution_count": 20,
      "outputs": []
    },
    {
      "cell_type": "code",
      "source": [
        "arr_one.ndim"
      ],
      "metadata": {
        "colab": {
          "base_uri": "https://localhost:8080/"
        },
        "id": "ujS6G8nlZsZo",
        "outputId": "05ed1250-9b60-4141-a7d4-d4364d03dae3"
      },
      "execution_count": 21,
      "outputs": [
        {
          "output_type": "execute_result",
          "data": {
            "text/plain": [
              "2"
            ]
          },
          "metadata": {},
          "execution_count": 21
        }
      ]
    },
    {
      "cell_type": "code",
      "source": [
        "arr_one.size"
      ],
      "metadata": {
        "colab": {
          "base_uri": "https://localhost:8080/"
        },
        "id": "RPHjgRD4ZvEw",
        "outputId": "a5ab0f42-63cc-4666-cc67-2395dc3a909c"
      },
      "execution_count": 22,
      "outputs": [
        {
          "output_type": "execute_result",
          "data": {
            "text/plain": [
              "5"
            ]
          },
          "metadata": {},
          "execution_count": 22
        }
      ]
    },
    {
      "cell_type": "code",
      "source": [
        "arr_one.shape"
      ],
      "metadata": {
        "colab": {
          "base_uri": "https://localhost:8080/"
        },
        "id": "knpiyJGnZyWW",
        "outputId": "9489bc64-0451-442d-f8a2-4b2569e42bfd"
      },
      "execution_count": 23,
      "outputs": [
        {
          "output_type": "execute_result",
          "data": {
            "text/plain": [
              "(1, 5)"
            ]
          },
          "metadata": {},
          "execution_count": 23
        }
      ]
    },
    {
      "cell_type": "markdown",
      "source": [
        "##Reshape"
      ],
      "metadata": {
        "id": "voIj11gFZ0U4"
      }
    },
    {
      "cell_type": "code",
      "source": [
        "# np.reshape()\n",
        "\n",
        "# Keterangan :\n",
        "# Menggunakan np.reshape() akan memberikan bentuk baru ke array tanpa mengubah datanya"
      ],
      "metadata": {
        "id": "O5fTErUeZ9jg"
      },
      "execution_count": 24,
      "outputs": []
    },
    {
      "cell_type": "code",
      "source": [
        "a = np.arange(6)\n",
        "print(a)"
      ],
      "metadata": {
        "colab": {
          "base_uri": "https://localhost:8080/"
        },
        "id": "HwE4a_wdZ2G1",
        "outputId": "d2a5a1e2-01f5-4f8e-d43c-279f55caf90b"
      },
      "execution_count": 25,
      "outputs": [
        {
          "output_type": "stream",
          "name": "stdout",
          "text": [
            "[0 1 2 3 4 5]\n"
          ]
        }
      ]
    },
    {
      "cell_type": "code",
      "source": [
        "b = a.reshape(3,2)\n",
        "print(b)"
      ],
      "metadata": {
        "colab": {
          "base_uri": "https://localhost:8080/"
        },
        "id": "t8YhL4UHaBAM",
        "outputId": "e6856a41-d8a1-4d41-8077-50192440faf3"
      },
      "execution_count": 26,
      "outputs": [
        {
          "output_type": "stream",
          "name": "stdout",
          "text": [
            "[[0 1]\n",
            " [2 3]\n",
            " [4 5]]\n"
          ]
        }
      ]
    },
    {
      "cell_type": "code",
      "source": [
        "a.reshape(6,1)"
      ],
      "metadata": {
        "colab": {
          "base_uri": "https://localhost:8080/"
        },
        "id": "qZtmiWqoaEcr",
        "outputId": "10807a49-bdae-464b-fabd-6dd1f2858444"
      },
      "execution_count": 27,
      "outputs": [
        {
          "output_type": "execute_result",
          "data": {
            "text/plain": [
              "array([[0],\n",
              "       [1],\n",
              "       [2],\n",
              "       [3],\n",
              "       [4],\n",
              "       [5]])"
            ]
          },
          "metadata": {},
          "execution_count": 27
        }
      ]
    },
    {
      "cell_type": "markdown",
      "source": [
        "**Catatan**\n",
        "numpy.reshape(a, newshape, order)\n",
        "\n",
        "Keterangan :\n",
        "\n",
        "* a adalah array yang akan di-reshapeed\n",
        "* newshape adalah bentuk baru yang kalian inginkan, bisa ditentukan antara integer atau tuple integer\n",
        "* order"
      ],
      "metadata": {
        "id": "tX7TkFUSaISr"
      }
    },
    {
      "cell_type": "markdown",
      "source": [
        "##Convert 1D to 2D"
      ],
      "metadata": {
        "id": "srECLnSMaVKk"
      }
    },
    {
      "cell_type": "code",
      "source": [
        "a = np.array([1, 2, 3, 4, 5, 6])\n",
        "a.shape"
      ],
      "metadata": {
        "colab": {
          "base_uri": "https://localhost:8080/"
        },
        "id": "WIUZ_dYeaXsV",
        "outputId": "6ba111d0-9f19-4fa2-dbc9-d67419c7aef9"
      },
      "execution_count": 28,
      "outputs": [
        {
          "output_type": "execute_result",
          "data": {
            "text/plain": [
              "(6,)"
            ]
          },
          "metadata": {},
          "execution_count": 28
        }
      ]
    },
    {
      "cell_type": "code",
      "source": [
        "# You can use np.newaxis to add a new axis:\n",
        "\n",
        "a2 = a[np.newaxis]\n",
        "print(a2.shape)\n",
        "print(a2)"
      ],
      "metadata": {
        "colab": {
          "base_uri": "https://localhost:8080/"
        },
        "id": "vIsPAwYza90h",
        "outputId": "f80a6ecf-03e8-4824-b04d-0b89187f0f86"
      },
      "execution_count": 29,
      "outputs": [
        {
          "output_type": "stream",
          "name": "stdout",
          "text": [
            "(1, 6)\n",
            "[[1 2 3 4 5 6]]\n"
          ]
        }
      ]
    },
    {
      "cell_type": "code",
      "source": [
        "# You can convert a 1D array to a row vector by inserting an axis along the first dimension\n",
        "\n",
        "row_vector = a[np.newaxis, :]\n",
        "print(row_vector.shape)\n",
        "print(row_vector)"
      ],
      "metadata": {
        "colab": {
          "base_uri": "https://localhost:8080/"
        },
        "id": "b1XOzyY5bA0v",
        "outputId": "92f91bbc-0ef3-4620-bca4-e15b0eb56684"
      },
      "execution_count": 30,
      "outputs": [
        {
          "output_type": "stream",
          "name": "stdout",
          "text": [
            "(1, 6)\n",
            "[[1 2 3 4 5 6]]\n"
          ]
        }
      ]
    },
    {
      "cell_type": "code",
      "source": [
        "# for a column vector, you can insert an axis along the second dimension\n",
        "\n",
        "col_vector = a[:, np.newaxis]\n",
        "print(col_vector.shape)\n",
        "print(col_vector)"
      ],
      "metadata": {
        "colab": {
          "base_uri": "https://localhost:8080/"
        },
        "id": "RxGXQUqubF6O",
        "outputId": "2876605d-49cc-4591-a4d6-28b6678b6d42"
      },
      "execution_count": 31,
      "outputs": [
        {
          "output_type": "stream",
          "name": "stdout",
          "text": [
            "(6, 1)\n",
            "[[1]\n",
            " [2]\n",
            " [3]\n",
            " [4]\n",
            " [5]\n",
            " [6]]\n"
          ]
        }
      ]
    },
    {
      "cell_type": "code",
      "source": [
        "a = np.array([1, 2, 3, 4, 5, 6])\n",
        "a.shape"
      ],
      "metadata": {
        "colab": {
          "base_uri": "https://localhost:8080/"
        },
        "id": "WhtrzdWbcLrl",
        "outputId": "8fd5becb-e460-49a3-97ad-4ea7a795d987"
      },
      "execution_count": 32,
      "outputs": [
        {
          "output_type": "execute_result",
          "data": {
            "text/plain": [
              "(6,)"
            ]
          },
          "metadata": {},
          "execution_count": 32
        }
      ]
    },
    {
      "cell_type": "code",
      "source": [
        "# You can use np.expand_dims to add an axis at index position 1 with :\n",
        "\n",
        "b = np.expand_dims(a, axis=1)\n",
        "b.shape"
      ],
      "metadata": {
        "colab": {
          "base_uri": "https://localhost:8080/"
        },
        "id": "1UzBlpIecO2D",
        "outputId": "f90dc4d2-1f16-479a-a8c1-3d297eb88fe9"
      },
      "execution_count": 33,
      "outputs": [
        {
          "output_type": "execute_result",
          "data": {
            "text/plain": [
              "(6, 1)"
            ]
          },
          "metadata": {},
          "execution_count": 33
        }
      ]
    },
    {
      "cell_type": "code",
      "source": [
        "# You can add an axis at index position 0 with:\n",
        "\n",
        "c = np.expand_dims(a, axis=1)\n",
        "c.shape"
      ],
      "metadata": {
        "colab": {
          "base_uri": "https://localhost:8080/"
        },
        "id": "cub3FeomcX8t",
        "outputId": "e93e4bc6-438a-45a7-b575-679982dce98e"
      },
      "execution_count": 34,
      "outputs": [
        {
          "output_type": "execute_result",
          "data": {
            "text/plain": [
              "(6, 1)"
            ]
          },
          "metadata": {},
          "execution_count": 34
        }
      ]
    },
    {
      "cell_type": "markdown",
      "source": [
        "##Indexing dan Slicing "
      ],
      "metadata": {
        "id": "9BGcC7ebcZSi"
      }
    },
    {
      "cell_type": "code",
      "source": [
        "data = np.array([1, 2, 3])\n",
        "\n",
        "print(data)\n",
        "print(data[0])\n",
        "print(data[1])\n",
        "print(data[0:2])\n",
        "print(data[1:])\n",
        "print(data[-2:])"
      ],
      "metadata": {
        "colab": {
          "base_uri": "https://localhost:8080/"
        },
        "id": "GMyZV7DwccRL",
        "outputId": "50c5072f-6df2-4287-e16d-e40c64922169"
      },
      "execution_count": 35,
      "outputs": [
        {
          "output_type": "stream",
          "name": "stdout",
          "text": [
            "[1 2 3]\n",
            "1\n",
            "2\n",
            "[1 2]\n",
            "[2 3]\n",
            "[2 3]\n"
          ]
        }
      ]
    },
    {
      "cell_type": "code",
      "source": [
        "a = np.array([\n",
        "    [1, 2, 3, 4],\n",
        "    [5, 6, 7, 8],\n",
        "    [9, 10, 11, 12]\n",
        "])\n",
        "a"
      ],
      "metadata": {
        "colab": {
          "base_uri": "https://localhost:8080/"
        },
        "id": "5_a2mDpVcfx9",
        "outputId": "4a3134a8-0d5d-4491-c2cc-c830e00e3fdd"
      },
      "execution_count": 36,
      "outputs": [
        {
          "output_type": "execute_result",
          "data": {
            "text/plain": [
              "array([[ 1,  2,  3,  4],\n",
              "       [ 5,  6,  7,  8],\n",
              "       [ 9, 10, 11, 12]])"
            ]
          },
          "metadata": {},
          "execution_count": 36
        }
      ]
    },
    {
      "cell_type": "code",
      "source": [
        "# You can easily print all of the values in the array that are less than 5\n",
        "\n",
        "print(a[a >= 5])"
      ],
      "metadata": {
        "colab": {
          "base_uri": "https://localhost:8080/"
        },
        "id": "8UvZB__KcjY7",
        "outputId": "b35d9ced-d307-46e9-8a37-bc70ac530af4"
      },
      "execution_count": 37,
      "outputs": [
        {
          "output_type": "stream",
          "name": "stdout",
          "text": [
            "[ 5  6  7  8  9 10 11 12]\n"
          ]
        }
      ]
    },
    {
      "cell_type": "code",
      "source": [
        "five_up = (a >= 5)\n",
        "\n",
        "print(a[five_up])\n",
        "print(a[a >= 5])"
      ],
      "metadata": {
        "colab": {
          "base_uri": "https://localhost:8080/"
        },
        "id": "ittZex6NcmMK",
        "outputId": "a2a5cd45-edba-46a3-ec2a-7ff2797bbcfa"
      },
      "execution_count": 38,
      "outputs": [
        {
          "output_type": "stream",
          "name": "stdout",
          "text": [
            "[ 5  6  7  8  9 10 11 12]\n",
            "[ 5  6  7  8  9 10 11 12]\n"
          ]
        }
      ]
    },
    {
      "cell_type": "code",
      "source": [
        "# You can select elements that are divisible by 2\n",
        "\n",
        "divisible_by_2 = a[a % 2 == 0]\n",
        "\n",
        "print(divisible_by_2)"
      ],
      "metadata": {
        "colab": {
          "base_uri": "https://localhost:8080/"
        },
        "id": "EaaFWJwLcxhY",
        "outputId": "f0be6851-8efa-437c-a577-499ad22f42c6"
      },
      "execution_count": 39,
      "outputs": [
        {
          "output_type": "stream",
          "name": "stdout",
          "text": [
            "[ 2  4  6  8 10 12]\n"
          ]
        }
      ]
    },
    {
      "cell_type": "code",
      "source": [
        "# You can select elements that satisfy two conditions using the & and | operators\n",
        "\n",
        "c = a[(a > 2) & (a < 11)]\n",
        "\n",
        "print(c)"
      ],
      "metadata": {
        "colab": {
          "base_uri": "https://localhost:8080/"
        },
        "id": "j_-sVR2hc0cP",
        "outputId": "f25f5078-03ef-43b3-bd74-b6e8c68a6c00"
      },
      "execution_count": 40,
      "outputs": [
        {
          "output_type": "stream",
          "name": "stdout",
          "text": [
            "[ 3  4  5  6  7  8  9 10]\n"
          ]
        }
      ]
    },
    {
      "cell_type": "markdown",
      "source": [
        "##Creating array from existing data"
      ],
      "metadata": {
        "id": "imobU6JHc2g-"
      }
    },
    {
      "cell_type": "code",
      "source": [
        "# Slicing Indexing\n",
        "# np.vstack()\n",
        "# np.hstack()\n",
        "# np.hsplit()\n",
        "# .view()\n",
        "# .copy()\n",
        "\n",
        "# array([1, 2, 3, 4, 5, 6, 7, 8, 9, 10])"
      ],
      "metadata": {
        "id": "OfO5k30Jc7y2"
      },
      "execution_count": 41,
      "outputs": []
    },
    {
      "cell_type": "code",
      "source": [
        "arr = np.array([1, 2, 3, 4, 5, 6, 7, 8, 9, 10])"
      ],
      "metadata": {
        "id": "ygHSnDsjc_x3"
      },
      "execution_count": 42,
      "outputs": []
    },
    {
      "cell_type": "code",
      "source": [
        "arr1 = arr[3:8]\n",
        "arr1"
      ],
      "metadata": {
        "colab": {
          "base_uri": "https://localhost:8080/"
        },
        "id": "HqKAzkQzdCpT",
        "outputId": "e37bcebe-da26-4412-ea63-85d7d56fc3fc"
      },
      "execution_count": 43,
      "outputs": [
        {
          "output_type": "execute_result",
          "data": {
            "text/plain": [
              "array([4, 5, 6, 7, 8])"
            ]
          },
          "metadata": {},
          "execution_count": 43
        }
      ]
    },
    {
      "cell_type": "code",
      "source": [
        "# a_1:\n",
        "\n",
        "# array([[1, 1],\n",
        "    #  [2, 2]])\n",
        "    \n",
        "# a_2\n",
        "\n",
        "# array([[3, 3],\n",
        "    #  [4, 4]])\n",
        "    \n",
        "# Solusi agar dapat menumpuk secara vertikal dengan vstack\n",
        "\n",
        "a_1 = np.array([[1, 1],\n",
        "               [2, 2]])"
      ],
      "metadata": {
        "id": "HRGNlD78dFsh"
      },
      "execution_count": 44,
      "outputs": []
    },
    {
      "cell_type": "code",
      "source": [
        "a_2 = np.array([[3, 3],\n",
        "               [4, 4]])"
      ],
      "metadata": {
        "id": "-vlIAeKRdJKX"
      },
      "execution_count": 45,
      "outputs": []
    },
    {
      "cell_type": "code",
      "source": [
        "np.vstack((a_1, a_2))"
      ],
      "metadata": {
        "colab": {
          "base_uri": "https://localhost:8080/"
        },
        "id": "dVp4UpjxdMbz",
        "outputId": "b66da1b2-c2f8-484a-bed8-5148a13162b4"
      },
      "execution_count": 46,
      "outputs": [
        {
          "output_type": "execute_result",
          "data": {
            "text/plain": [
              "array([[1, 1],\n",
              "       [2, 2],\n",
              "       [3, 3],\n",
              "       [4, 4]])"
            ]
          },
          "metadata": {},
          "execution_count": 46
        }
      ]
    },
    {
      "cell_type": "code",
      "source": [
        "# atau posisi stack secara horizontal dengan fungsi hstack\n",
        "\n",
        "np.hstack((a_1, a_2))"
      ],
      "metadata": {
        "colab": {
          "base_uri": "https://localhost:8080/"
        },
        "id": "M9I94B-HdO6y",
        "outputId": "41478b4a-b08c-49cd-d81f-b3a0be80b64f"
      },
      "execution_count": 47,
      "outputs": [
        {
          "output_type": "execute_result",
          "data": {
            "text/plain": [
              "array([[1, 1, 3, 3],\n",
              "       [2, 2, 4, 4]])"
            ]
          },
          "metadata": {},
          "execution_count": 47
        }
      ]
    },
    {
      "cell_type": "code",
      "source": [
        "# array([[1, 2, 3, 4, 5, 6, 7, 8, 9, 10, 11, 12],\n",
        "#       [13, 14, 15, 16, 17, 18, 19, 20, 21, 22, 23, 24]])"
      ],
      "metadata": {
        "id": "zDObjZ16dSnU"
      },
      "execution_count": 48,
      "outputs": []
    },
    {
      "cell_type": "code",
      "source": [
        "arrsplit = np.array([[1, 2, 3, 4, 5, 6, 7, 8, 9, 10, 11, 12],\n",
        "                     [13, 14, 15, 16, 17, 18, 19, 20, 21, 22, 23, 24]])\n",
        "\n",
        "print(arrsplit)"
      ],
      "metadata": {
        "colab": {
          "base_uri": "https://localhost:8080/"
        },
        "id": "4Co8XGOwdV8s",
        "outputId": "029caf6d-7ac2-4ef1-afb6-09dad74f973e"
      },
      "execution_count": 49,
      "outputs": [
        {
          "output_type": "stream",
          "name": "stdout",
          "text": [
            "[[ 1  2  3  4  5  6  7  8  9 10 11 12]\n",
            " [13 14 15 16 17 18 19 20 21 22 23 24]]\n"
          ]
        }
      ]
    },
    {
      "cell_type": "code",
      "source": [
        "np.hsplit(arrsplit, 3)"
      ],
      "metadata": {
        "colab": {
          "base_uri": "https://localhost:8080/"
        },
        "id": "8M3IrioqdYzm",
        "outputId": "4eb0df0d-60df-4395-b399-0cdc59ec38a9"
      },
      "execution_count": 50,
      "outputs": [
        {
          "output_type": "execute_result",
          "data": {
            "text/plain": [
              "[array([[ 1,  2,  3,  4],\n",
              "        [13, 14, 15, 16]]), array([[ 5,  6,  7,  8],\n",
              "        [17, 18, 19, 20]]), array([[ 9, 10, 11, 12],\n",
              "        [21, 22, 23, 24]])]"
            ]
          },
          "metadata": {},
          "execution_count": 50
        }
      ]
    },
    {
      "cell_type": "code",
      "source": [
        "a = np.array([[1, 2, 3, 4], [5, 6, 7, 8], [9, 10, 11, 12]])\n",
        "a"
      ],
      "metadata": {
        "colab": {
          "base_uri": "https://localhost:8080/"
        },
        "id": "vRrJj75Uda3K",
        "outputId": "c70df526-4e41-4e1e-e7d1-e638e7013f8b"
      },
      "execution_count": 51,
      "outputs": [
        {
          "output_type": "execute_result",
          "data": {
            "text/plain": [
              "array([[ 1,  2,  3,  4],\n",
              "       [ 5,  6,  7,  8],\n",
              "       [ 9, 10, 11, 12]])"
            ]
          },
          "metadata": {},
          "execution_count": 51
        }
      ]
    },
    {
      "cell_type": "code",
      "source": [
        "# You can create a new array object that loks at the same data\n",
        "\n",
        "b = a.view()\n",
        "b"
      ],
      "metadata": {
        "colab": {
          "base_uri": "https://localhost:8080/"
        },
        "id": "Ca66lBM-dehA",
        "outputId": "3bf96b71-dddb-4893-8660-334b62b1c234"
      },
      "execution_count": 52,
      "outputs": [
        {
          "output_type": "execute_result",
          "data": {
            "text/plain": [
              "array([[ 1,  2,  3,  4],\n",
              "       [ 5,  6,  7,  8],\n",
              "       [ 9, 10, 11, 12]])"
            ]
          },
          "metadata": {},
          "execution_count": 52
        }
      ]
    },
    {
      "cell_type": "code",
      "source": [
        "# Using the copy method will make a complet copy of the array and it's data (a deep copy)\n",
        "\n",
        "c = a.copy()\n",
        "c"
      ],
      "metadata": {
        "colab": {
          "base_uri": "https://localhost:8080/"
        },
        "id": "09nuxzWgdg5f",
        "outputId": "66cb1d82-701f-47ae-943f-1b16b44981b0"
      },
      "execution_count": 53,
      "outputs": [
        {
          "output_type": "execute_result",
          "data": {
            "text/plain": [
              "array([[ 1,  2,  3,  4],\n",
              "       [ 5,  6,  7,  8],\n",
              "       [ 9, 10, 11, 12]])"
            ]
          },
          "metadata": {},
          "execution_count": 53
        }
      ]
    },
    {
      "cell_type": "markdown",
      "source": [
        "##Basic array operations\n",
        "\n",
        "* Addition,\n",
        "* Subtraction,\n",
        "* Multiplication,\n",
        "* Division, and\n",
        "* More"
      ],
      "metadata": {
        "id": "kAEXJR6zdlyV"
      }
    },
    {
      "cell_type": "code",
      "source": [
        "# data - ones\n",
        "# data * data\n",
        "# data / data"
      ],
      "metadata": {
        "id": "s0_Tg6w2ds5z"
      },
      "execution_count": 54,
      "outputs": []
    },
    {
      "cell_type": "code",
      "source": [
        "a = np.array([1, 2, 3, 4])\n",
        "# 1 + 2 + 3 + 4 = 10\n",
        "\n",
        "# Add all of the elements in the array\n",
        "a.sum()"
      ],
      "metadata": {
        "colab": {
          "base_uri": "https://localhost:8080/"
        },
        "id": "qIcofsPcdwIW",
        "outputId": "11509450-3724-41e6-ca4b-8cbba5c6c138"
      },
      "execution_count": 55,
      "outputs": [
        {
          "output_type": "execute_result",
          "data": {
            "text/plain": [
              "10"
            ]
          },
          "metadata": {},
          "execution_count": 55
        }
      ]
    },
    {
      "cell_type": "code",
      "source": [
        "# Untuk menambahkan baris atau kolom dalam array 2D, kalian harus menentukan axis.\n",
        "\n",
        "b = np.array([[1, 1], [2, 2]])\n",
        "b"
      ],
      "metadata": {
        "colab": {
          "base_uri": "https://localhost:8080/"
        },
        "id": "UaptLNHwdya8",
        "outputId": "29177146-bec4-467d-d950-fb30af9b0046"
      },
      "execution_count": 56,
      "outputs": [
        {
          "output_type": "execute_result",
          "data": {
            "text/plain": [
              "array([[1, 1],\n",
              "       [2, 2]])"
            ]
          },
          "metadata": {},
          "execution_count": 56
        }
      ]
    },
    {
      "cell_type": "code",
      "source": [
        "# You can sum the rows\n",
        "\n",
        "b.sum(axis = 0)"
      ],
      "metadata": {
        "colab": {
          "base_uri": "https://localhost:8080/"
        },
        "id": "iaZecv0rd3pn",
        "outputId": "a6fca22c-c440-4ea3-fa40-d2f9525f66b8"
      },
      "execution_count": 57,
      "outputs": [
        {
          "output_type": "execute_result",
          "data": {
            "text/plain": [
              "array([3, 3])"
            ]
          },
          "metadata": {},
          "execution_count": 57
        }
      ]
    },
    {
      "cell_type": "code",
      "source": [
        "# You can sum the columns\n",
        "\n",
        "b.sum(axis = 1)"
      ],
      "metadata": {
        "colab": {
          "base_uri": "https://localhost:8080/"
        },
        "id": "DCPT-UIkd6Pq",
        "outputId": "84e9ba57-fada-4190-e14b-610dd4689f50"
      },
      "execution_count": 58,
      "outputs": [
        {
          "output_type": "execute_result",
          "data": {
            "text/plain": [
              "array([2, 4])"
            ]
          },
          "metadata": {},
          "execution_count": 58
        }
      ]
    },
    {
      "cell_type": "code",
      "source": [
        "data = np.array([1, 2])\n",
        "data"
      ],
      "metadata": {
        "colab": {
          "base_uri": "https://localhost:8080/"
        },
        "id": "5Elq9_P_d8GJ",
        "outputId": "da13a152-272f-4384-fbc9-0af22e1de80c"
      },
      "execution_count": 59,
      "outputs": [
        {
          "output_type": "execute_result",
          "data": {
            "text/plain": [
              "array([1, 2])"
            ]
          },
          "metadata": {},
          "execution_count": 59
        }
      ]
    },
    {
      "cell_type": "code",
      "source": [
        "ones = np.ones(2)\n",
        "ones"
      ],
      "metadata": {
        "colab": {
          "base_uri": "https://localhost:8080/"
        },
        "id": "IJsjRBDfd91D",
        "outputId": "533dae77-fb6d-4695-813a-3ef6bfcbd2b6"
      },
      "execution_count": 60,
      "outputs": [
        {
          "output_type": "execute_result",
          "data": {
            "text/plain": [
              "array([1., 1.])"
            ]
          },
          "metadata": {},
          "execution_count": 60
        }
      ]
    },
    {
      "cell_type": "code",
      "source": [
        "data + ones"
      ],
      "metadata": {
        "colab": {
          "base_uri": "https://localhost:8080/"
        },
        "id": "gRCfBOCld_tP",
        "outputId": "3e7d7c95-6f36-4ebe-aa6e-4d33d9862c5c"
      },
      "execution_count": 61,
      "outputs": [
        {
          "output_type": "execute_result",
          "data": {
            "text/plain": [
              "array([2., 3.])"
            ]
          },
          "metadata": {},
          "execution_count": 61
        }
      ]
    },
    {
      "cell_type": "code",
      "source": [
        "data * data"
      ],
      "metadata": {
        "colab": {
          "base_uri": "https://localhost:8080/"
        },
        "id": "9ulrrwvDeFa1",
        "outputId": "93cd701f-4774-4253-e709-f7d9fd1a54c4"
      },
      "execution_count": 62,
      "outputs": [
        {
          "output_type": "execute_result",
          "data": {
            "text/plain": [
              "array([1, 4])"
            ]
          },
          "metadata": {},
          "execution_count": 62
        }
      ]
    },
    {
      "cell_type": "code",
      "source": [
        "data / data"
      ],
      "metadata": {
        "colab": {
          "base_uri": "https://localhost:8080/"
        },
        "id": "QoBwghXveGk-",
        "outputId": "0d49f211-63c3-4733-cfd9-d51d2ac72e25"
      },
      "execution_count": 63,
      "outputs": [
        {
          "output_type": "execute_result",
          "data": {
            "text/plain": [
              "array([1., 1.])"
            ]
          },
          "metadata": {},
          "execution_count": 63
        }
      ]
    },
    {
      "cell_type": "markdown",
      "source": [
        "##Broadcasting"
      ],
      "metadata": {
        "id": "81BSfl6BeIpG"
      }
    },
    {
      "cell_type": "code",
      "source": [
        "data*2"
      ],
      "metadata": {
        "colab": {
          "base_uri": "https://localhost:8080/"
        },
        "id": "Flq849PleKvK",
        "outputId": "4d3a81f9-e546-469c-9ada-57f33431d7dc"
      },
      "execution_count": 64,
      "outputs": [
        {
          "output_type": "execute_result",
          "data": {
            "text/plain": [
              "array([2, 4])"
            ]
          },
          "metadata": {},
          "execution_count": 64
        }
      ]
    },
    {
      "cell_type": "markdown",
      "source": [
        "##More array operations\n",
        "\n",
        "* Maximum,\n",
        "* Minimum,\n",
        "* Sum,\n",
        "* Mean,\n",
        "* Product,\n",
        "* Standard Deviation, and\n",
        "* more"
      ],
      "metadata": {
        "id": "0pBVjGGseVf7"
      }
    },
    {
      "cell_type": "code",
      "source": [
        "# data.max()\n",
        "# data.min()\n",
        "# data.sum()"
      ],
      "metadata": {
        "id": "ol-JXjURefD8"
      },
      "execution_count": 65,
      "outputs": []
    },
    {
      "cell_type": "code",
      "source": [
        "A = np.array([\n",
        "    [0.45053314, 0.17296777, 0.34376245, 0.5510652],\n",
        "    [0.54627315, 0.05093587, 0.40067661, 0.55645993],\n",
        "    [0.12697628, 0.82485143, 0.26590556, 0.56917101]\n",
        "])\n",
        "\n",
        "print(A)"
      ],
      "metadata": {
        "colab": {
          "base_uri": "https://localhost:8080/"
        },
        "id": "lcmZbcFXehP6",
        "outputId": "308a54d8-d457-4dbe-e191-07e03b204f34"
      },
      "execution_count": 66,
      "outputs": [
        {
          "output_type": "stream",
          "name": "stdout",
          "text": [
            "[[0.45053314 0.17296777 0.34376245 0.5510652 ]\n",
            " [0.54627315 0.05093587 0.40067661 0.55645993]\n",
            " [0.12697628 0.82485143 0.26590556 0.56917101]]\n"
          ]
        }
      ]
    },
    {
      "cell_type": "code",
      "source": [
        "A.sum()"
      ],
      "metadata": {
        "colab": {
          "base_uri": "https://localhost:8080/"
        },
        "id": "PINvKuG-ejp-",
        "outputId": "63aa513c-09e1-49ef-9a7c-074d8d2904f7"
      },
      "execution_count": 67,
      "outputs": [
        {
          "output_type": "execute_result",
          "data": {
            "text/plain": [
              "4.8595784"
            ]
          },
          "metadata": {},
          "execution_count": 67
        }
      ]
    },
    {
      "cell_type": "code",
      "source": [
        "A.min()"
      ],
      "metadata": {
        "colab": {
          "base_uri": "https://localhost:8080/"
        },
        "id": "W3OMLTg0emkw",
        "outputId": "4ec4311b-cea6-4041-f0ad-a23f87cf179b"
      },
      "execution_count": 68,
      "outputs": [
        {
          "output_type": "execute_result",
          "data": {
            "text/plain": [
              "0.05093587"
            ]
          },
          "metadata": {},
          "execution_count": 68
        }
      ]
    },
    {
      "cell_type": "code",
      "source": [
        "A.min( axis = 0 )"
      ],
      "metadata": {
        "colab": {
          "base_uri": "https://localhost:8080/"
        },
        "id": "RLIGPoJdeqIL",
        "outputId": "c75ea479-49b7-47e6-f6bc-59e1851f6c2b"
      },
      "execution_count": 69,
      "outputs": [
        {
          "output_type": "execute_result",
          "data": {
            "text/plain": [
              "array([0.12697628, 0.05093587, 0.26590556, 0.5510652 ])"
            ]
          },
          "metadata": {},
          "execution_count": 69
        }
      ]
    },
    {
      "cell_type": "code",
      "source": [
        "A.min( axis = 1 )"
      ],
      "metadata": {
        "colab": {
          "base_uri": "https://localhost:8080/"
        },
        "id": "JBSuyqqjerck",
        "outputId": "dcac536f-4663-433d-8a62-1e0a895483e3"
      },
      "execution_count": 70,
      "outputs": [
        {
          "output_type": "execute_result",
          "data": {
            "text/plain": [
              "array([0.17296777, 0.05093587, 0.12697628])"
            ]
          },
          "metadata": {},
          "execution_count": 70
        }
      ]
    },
    {
      "cell_type": "code",
      "source": [
        "A.std()"
      ],
      "metadata": {
        "colab": {
          "base_uri": "https://localhost:8080/"
        },
        "id": "TwJ6HKJKetr5",
        "outputId": "2dff6ead-ba61-493d-b554-e72fa3764c6e"
      },
      "execution_count": 71,
      "outputs": [
        {
          "output_type": "execute_result",
          "data": {
            "text/plain": [
              "0.21392120766089617"
            ]
          },
          "metadata": {},
          "execution_count": 71
        }
      ]
    },
    {
      "cell_type": "markdown",
      "source": [
        "##Matrices"
      ],
      "metadata": {
        "id": "vHEtv3uEewVQ"
      }
    },
    {
      "cell_type": "markdown",
      "source": [
        "###Creating Matrices"
      ],
      "metadata": {
        "id": "TS6-yqNoexoB"
      }
    },
    {
      "cell_type": "code",
      "source": [
        "# np.array([\n",
        "#     [1, 2],\n",
        "#     [3, 4]\n",
        "# ])"
      ],
      "metadata": {
        "id": "ix2IPzYFe0Wb"
      },
      "execution_count": 72,
      "outputs": []
    },
    {
      "cell_type": "code",
      "source": [
        "np.ones((3, 2))\n",
        "np.zeros((3, 2))\n",
        "np.random.random((2, 3))\n",
        "\n",
        "print(np.ones((3, 2)))\n",
        "print(np.zeros((3, 2)))\n",
        "print(np.random.random((2, 3)))"
      ],
      "metadata": {
        "colab": {
          "base_uri": "https://localhost:8080/"
        },
        "id": "YBoevhVpe35g",
        "outputId": "ff594409-e8d2-48af-c3a4-a0f28a2f9a3b"
      },
      "execution_count": 73,
      "outputs": [
        {
          "output_type": "stream",
          "name": "stdout",
          "text": [
            "[[1. 1.]\n",
            " [1. 1.]\n",
            " [1. 1.]]\n",
            "[[0. 0.]\n",
            " [0. 0.]\n",
            " [0. 0.]]\n",
            "[[0.8852653  0.67877167 0.4349062 ]\n",
            " [0.34203645 0.31745892 0.72961653]]\n"
          ]
        }
      ]
    },
    {
      "cell_type": "markdown",
      "source": [
        "###Matrix Arithmetic"
      ],
      "metadata": {
        "id": "rQD1DIeAe6rk"
      }
    },
    {
      "cell_type": "code",
      "source": [
        "data = np.array([\n",
        "    [1, 2],\n",
        "    [3, 4]\n",
        "])\n",
        "\n",
        "print(data)"
      ],
      "metadata": {
        "colab": {
          "base_uri": "https://localhost:8080/"
        },
        "id": "uKQVMHLae6CV",
        "outputId": "d326e743-e478-48d1-e1e7-7b382498ec5b"
      },
      "execution_count": 74,
      "outputs": [
        {
          "output_type": "stream",
          "name": "stdout",
          "text": [
            "[[1 2]\n",
            " [3 4]]\n"
          ]
        }
      ]
    },
    {
      "cell_type": "code",
      "source": [
        "ones = np.ones([2, 2])\n",
        "print(ones)"
      ],
      "metadata": {
        "colab": {
          "base_uri": "https://localhost:8080/"
        },
        "id": "n-IYV0JNfB8n",
        "outputId": "3b8257b5-52ca-4a1d-9a7d-0fa453dbca83"
      },
      "execution_count": 75,
      "outputs": [
        {
          "output_type": "stream",
          "name": "stdout",
          "text": [
            "[[1. 1.]\n",
            " [1. 1.]]\n"
          ]
        }
      ]
    },
    {
      "cell_type": "code",
      "source": [
        "print(data + ones)"
      ],
      "metadata": {
        "colab": {
          "base_uri": "https://localhost:8080/"
        },
        "id": "_0gYF8YOfEMd",
        "outputId": "63186a9a-3467-4020-92d9-ce5e14570386"
      },
      "execution_count": 76,
      "outputs": [
        {
          "output_type": "stream",
          "name": "stdout",
          "text": [
            "[[2. 3.]\n",
            " [4. 5.]]\n"
          ]
        }
      ]
    },
    {
      "cell_type": "code",
      "source": [
        "ones_row = np.ones([1, 2])\n",
        "print(ones_row)"
      ],
      "metadata": {
        "colab": {
          "base_uri": "https://localhost:8080/"
        },
        "id": "dmnSs-RwfGG5",
        "outputId": "9dd48a98-9665-4fc7-a1c5-5abd71fd478a"
      },
      "execution_count": 77,
      "outputs": [
        {
          "output_type": "stream",
          "name": "stdout",
          "text": [
            "[[1. 1.]]\n"
          ]
        }
      ]
    },
    {
      "cell_type": "code",
      "source": [
        "print(data + ones_row)"
      ],
      "metadata": {
        "colab": {
          "base_uri": "https://localhost:8080/"
        },
        "id": "rkny0OmnfH6Q",
        "outputId": "0b490b8e-bbfd-491d-ed50-51ddc5208fdc"
      },
      "execution_count": 78,
      "outputs": [
        {
          "output_type": "stream",
          "name": "stdout",
          "text": [
            "[[2. 3.]\n",
            " [4. 5.]]\n"
          ]
        }
      ]
    },
    {
      "cell_type": "markdown",
      "source": [
        "###Dot Product"
      ],
      "metadata": {
        "id": "vaMuJUx8fKDl"
      }
    },
    {
      "cell_type": "code",
      "source": [
        "a_1 = np.array([\n",
        "    [1, 2, 3],\n",
        "    [4, 5, 6]\n",
        "])\n",
        "\n",
        "print(a_1)\n",
        "print(a_1.shape)\n",
        "\n",
        "a_2 = np.array([\n",
        "    [7, 8],\n",
        "    [9, 10],\n",
        "    [11, 12]\n",
        "])\n",
        "\n",
        "print(a_2)\n",
        "print(a_2.shape)"
      ],
      "metadata": {
        "colab": {
          "base_uri": "https://localhost:8080/"
        },
        "id": "a9AAnK8pfQee",
        "outputId": "b9499bbf-68a6-4c4a-d4fc-81acbfe0c7d0"
      },
      "execution_count": 79,
      "outputs": [
        {
          "output_type": "stream",
          "name": "stdout",
          "text": [
            "[[1 2 3]\n",
            " [4 5 6]]\n",
            "(2, 3)\n",
            "[[ 7  8]\n",
            " [ 9 10]\n",
            " [11 12]]\n",
            "(3, 2)\n"
          ]
        }
      ]
    },
    {
      "cell_type": "code",
      "source": [
        "np.dot(a_1, a_2)"
      ],
      "metadata": {
        "colab": {
          "base_uri": "https://localhost:8080/"
        },
        "id": "kltg3LqcfVRJ",
        "outputId": "4448437a-9329-4f6a-fd35-ccf32d19e8a0"
      },
      "execution_count": 80,
      "outputs": [
        {
          "output_type": "execute_result",
          "data": {
            "text/plain": [
              "array([[ 58,  64],\n",
              "       [139, 154]])"
            ]
          },
          "metadata": {},
          "execution_count": 80
        }
      ]
    },
    {
      "cell_type": "markdown",
      "source": [
        "###Matrix Indexing"
      ],
      "metadata": {
        "id": "OUQcpL9ufaxF"
      }
    },
    {
      "cell_type": "code",
      "source": [
        "data = np.array([\n",
        "    [1, 2],\n",
        "    [3, 4],\n",
        "    [5, 6]\n",
        "])\n",
        "\n",
        "print(data)\n",
        "print(data[0])\n",
        "print(data[1])\n",
        "print(data[2])\n",
        "print(data[0, 1])\n",
        "print(data[1 : 3])\n",
        "print(data[0 : 2, 1])"
      ],
      "metadata": {
        "colab": {
          "base_uri": "https://localhost:8080/"
        },
        "id": "oMV9ri6Kff_a",
        "outputId": "7610bd4c-e467-4a13-914e-a8db2350ba40"
      },
      "execution_count": 81,
      "outputs": [
        {
          "output_type": "stream",
          "name": "stdout",
          "text": [
            "[[1 2]\n",
            " [3 4]\n",
            " [5 6]]\n",
            "[1 2]\n",
            "[3 4]\n",
            "[5 6]\n",
            "2\n",
            "[[3 4]\n",
            " [5 6]]\n",
            "[2 4]\n"
          ]
        }
      ]
    },
    {
      "cell_type": "markdown",
      "source": [
        "###Matrix Aggregation"
      ],
      "metadata": {
        "id": "NTogxw-jfidR"
      }
    },
    {
      "cell_type": "code",
      "source": [
        "print(data)"
      ],
      "metadata": {
        "colab": {
          "base_uri": "https://localhost:8080/"
        },
        "id": "zyEoau0Rfm2Z",
        "outputId": "638521b2-364c-405f-c5be-bd9d1cab196c"
      },
      "execution_count": 82,
      "outputs": [
        {
          "output_type": "stream",
          "name": "stdout",
          "text": [
            "[[1 2]\n",
            " [3 4]\n",
            " [5 6]]\n"
          ]
        }
      ]
    },
    {
      "cell_type": "code",
      "source": [
        "print(data.max())\n",
        "print(data.min())\n",
        "print(data.sum())"
      ],
      "metadata": {
        "colab": {
          "base_uri": "https://localhost:8080/"
        },
        "id": "R7Ofiyctfom0",
        "outputId": "e8dcb9ad-55b0-43fd-c8b3-80b96410bfae"
      },
      "execution_count": 83,
      "outputs": [
        {
          "output_type": "stream",
          "name": "stdout",
          "text": [
            "6\n",
            "1\n",
            "21\n"
          ]
        }
      ]
    },
    {
      "cell_type": "markdown",
      "source": [
        "###Transposing and Reshaping"
      ],
      "metadata": {
        "id": "UlT0pxlHfqAl"
      }
    },
    {
      "cell_type": "code",
      "source": [
        "print(data)"
      ],
      "metadata": {
        "colab": {
          "base_uri": "https://localhost:8080/"
        },
        "id": "5sgequsQfta1",
        "outputId": "0ba87a9d-3b72-40c8-9f1b-0aeabe854c27"
      },
      "execution_count": 84,
      "outputs": [
        {
          "output_type": "stream",
          "name": "stdout",
          "text": [
            "[[1 2]\n",
            " [3 4]\n",
            " [5 6]]\n"
          ]
        }
      ]
    },
    {
      "cell_type": "code",
      "source": [
        "print(data.T)"
      ],
      "metadata": {
        "colab": {
          "base_uri": "https://localhost:8080/"
        },
        "id": "8mKCPqqmfvZf",
        "outputId": "c777f106-5616-429d-a240-a964111ac9f0"
      },
      "execution_count": 85,
      "outputs": [
        {
          "output_type": "stream",
          "name": "stdout",
          "text": [
            "[[1 3 5]\n",
            " [2 4 6]]\n"
          ]
        }
      ]
    },
    {
      "cell_type": "code",
      "source": [
        "data_col = np.array([\n",
        "    [1, 2, 3, 4, 5, 6]\n",
        "]).T\n",
        "print(data_col)"
      ],
      "metadata": {
        "colab": {
          "base_uri": "https://localhost:8080/"
        },
        "id": "kiaBh_iVfzDu",
        "outputId": "37d60aff-3853-412a-94e2-e0ebacd267eb"
      },
      "execution_count": 86,
      "outputs": [
        {
          "output_type": "stream",
          "name": "stdout",
          "text": [
            "[[1]\n",
            " [2]\n",
            " [3]\n",
            " [4]\n",
            " [5]\n",
            " [6]]\n"
          ]
        }
      ]
    },
    {
      "cell_type": "code",
      "source": [
        "data_col.reshape(2, 3)"
      ],
      "metadata": {
        "colab": {
          "base_uri": "https://localhost:8080/"
        },
        "id": "qF9fbBiUf2i_",
        "outputId": "25e59ad6-3cb2-468d-b406-1b03c32ab471"
      },
      "execution_count": 87,
      "outputs": [
        {
          "output_type": "execute_result",
          "data": {
            "text/plain": [
              "array([[1, 2, 3],\n",
              "       [4, 5, 6]])"
            ]
          },
          "metadata": {},
          "execution_count": 87
        }
      ]
    },
    {
      "cell_type": "code",
      "source": [
        "data_col.reshape(3, 2)"
      ],
      "metadata": {
        "colab": {
          "base_uri": "https://localhost:8080/"
        },
        "id": "QOkPFTQ7f6EH",
        "outputId": "473b999a-ee84-44bd-fbdf-54a56cd8a406"
      },
      "execution_count": 88,
      "outputs": [
        {
          "output_type": "execute_result",
          "data": {
            "text/plain": [
              "array([[1, 2],\n",
              "       [3, 4],\n",
              "       [5, 6]])"
            ]
          },
          "metadata": {},
          "execution_count": 88
        }
      ]
    },
    {
      "cell_type": "code",
      "source": [
        "arr = np.arange(6).reshape((2, 3))\n",
        "print(arr)"
      ],
      "metadata": {
        "colab": {
          "base_uri": "https://localhost:8080/"
        },
        "id": "G3jVFMNhf78K",
        "outputId": "d5d10cf6-189d-4319-e284-ac88d77ce767"
      },
      "execution_count": 89,
      "outputs": [
        {
          "output_type": "stream",
          "name": "stdout",
          "text": [
            "[[0 1 2]\n",
            " [3 4 5]]\n"
          ]
        }
      ]
    },
    {
      "cell_type": "markdown",
      "source": [
        "###N-Dimensional Array"
      ],
      "metadata": {
        "id": "lCDd0dSugDwI"
      }
    },
    {
      "cell_type": "code",
      "source": [
        "ndarr = np.array([\n",
        "    [[1, 2], [3,4]],\n",
        "    [[5, 6], [7, 8]]\n",
        "])\n",
        "\n",
        "print(ndarr)"
      ],
      "metadata": {
        "colab": {
          "base_uri": "https://localhost:8080/"
        },
        "id": "8TxK6sdCgGw3",
        "outputId": "6c32c4bf-ad6f-4ca0-a9d1-48202b8c95d4"
      },
      "execution_count": 90,
      "outputs": [
        {
          "output_type": "stream",
          "name": "stdout",
          "text": [
            "[[[1 2]\n",
            "  [3 4]]\n",
            "\n",
            " [[5 6]\n",
            "  [7 8]]]\n"
          ]
        }
      ]
    },
    {
      "cell_type": "code",
      "source": [
        "# np.ones((Jumlah Matriks, Jumlah Baris, Jumlah Kolom))\n",
        "print(np.ones((4, 3, 2)))"
      ],
      "metadata": {
        "colab": {
          "base_uri": "https://localhost:8080/"
        },
        "id": "icCKqTx8gJut",
        "outputId": "3d261fd5-4893-4e96-ab07-119e0cc6f14a"
      },
      "execution_count": 91,
      "outputs": [
        {
          "output_type": "stream",
          "name": "stdout",
          "text": [
            "[[[1. 1.]\n",
            "  [1. 1.]\n",
            "  [1. 1.]]\n",
            "\n",
            " [[1. 1.]\n",
            "  [1. 1.]\n",
            "  [1. 1.]]\n",
            "\n",
            " [[1. 1.]\n",
            "  [1. 1.]\n",
            "  [1. 1.]]\n",
            "\n",
            " [[1. 1.]\n",
            "  [1. 1.]\n",
            "  [1. 1.]]]\n"
          ]
        }
      ]
    },
    {
      "cell_type": "code",
      "source": [
        "# np.zeros((Jumlah Matriks, Jumlah Baris, Jumlah Kolom))\n",
        "print(np.zeros((4, 3, 2)))"
      ],
      "metadata": {
        "colab": {
          "base_uri": "https://localhost:8080/"
        },
        "id": "BrSXS4qRgNHy",
        "outputId": "a90bf419-7d5a-494b-f6a0-c1e481e2d822"
      },
      "execution_count": 92,
      "outputs": [
        {
          "output_type": "stream",
          "name": "stdout",
          "text": [
            "[[[0. 0.]\n",
            "  [0. 0.]\n",
            "  [0. 0.]]\n",
            "\n",
            " [[0. 0.]\n",
            "  [0. 0.]\n",
            "  [0. 0.]]\n",
            "\n",
            " [[0. 0.]\n",
            "  [0. 0.]\n",
            "  [0. 0.]]\n",
            "\n",
            " [[0. 0.]\n",
            "  [0. 0.]\n",
            "  [0. 0.]]]\n"
          ]
        }
      ]
    },
    {
      "cell_type": "code",
      "source": [
        "print(np.random.random((4, 3, 2)))"
      ],
      "metadata": {
        "colab": {
          "base_uri": "https://localhost:8080/"
        },
        "id": "vBFh0bd0gPz9",
        "outputId": "b0abcb14-8e4c-4e23-b194-96d15b1cdd0c"
      },
      "execution_count": 93,
      "outputs": [
        {
          "output_type": "stream",
          "name": "stdout",
          "text": [
            "[[[0.74263699 0.77591655]\n",
            "  [0.20804186 0.03900719]\n",
            "  [0.49595038 0.07348739]]\n",
            "\n",
            " [[0.17474269 0.32998794]\n",
            "  [0.1780662  0.64868189]\n",
            "  [0.40844795 0.34970749]]\n",
            "\n",
            " [[0.81254177 0.61493222]\n",
            "  [0.71773735 0.6912118 ]\n",
            "  [0.28074713 0.68307727]]\n",
            "\n",
            " [[0.66034256 0.38398446]\n",
            "  [0.03721475 0.02945555]\n",
            "  [0.69371824 0.15402311]]]\n"
          ]
        }
      ]
    },
    {
      "cell_type": "markdown",
      "source": [
        "###Flaten N-Dimensional Array"
      ],
      "metadata": {
        "id": "YM45DFXegVcX"
      }
    },
    {
      "cell_type": "code",
      "source": [
        "arrflat = np.array([\n",
        "    [1, 2, 3, 4],\n",
        "    [5, 6, 7, 8],\n",
        "    [9, 10, 11, 12]\n",
        "])\n",
        "\n",
        "print(arrflat)"
      ],
      "metadata": {
        "colab": {
          "base_uri": "https://localhost:8080/"
        },
        "id": "XCWMqUF_gY70",
        "outputId": "beb51ef9-6105-46ed-e588-a1d5c3f4dd8a"
      },
      "execution_count": 94,
      "outputs": [
        {
          "output_type": "stream",
          "name": "stdout",
          "text": [
            "[[ 1  2  3  4]\n",
            " [ 5  6  7  8]\n",
            " [ 9 10 11 12]]\n"
          ]
        }
      ]
    },
    {
      "cell_type": "code",
      "source": [
        "# You can use flattern to flatten your array into a 1D array.\n",
        "\n",
        "arrflat.flatten()"
      ],
      "metadata": {
        "colab": {
          "base_uri": "https://localhost:8080/"
        },
        "id": "YeaYV9b2gasu",
        "outputId": "c66dc83f-daac-403f-d2b4-0f7b0ae4b326"
      },
      "execution_count": 95,
      "outputs": [
        {
          "output_type": "execute_result",
          "data": {
            "text/plain": [
              "array([ 1,  2,  3,  4,  5,  6,  7,  8,  9, 10, 11, 12])"
            ]
          },
          "metadata": {},
          "execution_count": 95
        }
      ]
    }
  ]
}