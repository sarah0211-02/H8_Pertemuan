{
  "nbformat": 4,
  "nbformat_minor": 0,
  "metadata": {
    "colab": {
      "provenance": [],
      "toc_visible": true,
      "authorship_tag": "ABX9TyMumdMoOqAB6abRZp7Z6gSu",
      "include_colab_link": true
    },
    "kernelspec": {
      "name": "python3",
      "display_name": "Python 3"
    },
    "language_info": {
      "name": "python"
    }
  },
  "cells": [
    {
      "cell_type": "markdown",
      "metadata": {
        "id": "view-in-github",
        "colab_type": "text"
      },
      "source": [
        "<a href=\"https://colab.research.google.com/github/sarah0211-02/H8_Pertemuan/blob/master/H8_Pertemuan2.ipynb\" target=\"_parent\"><img src=\"https://colab.research.google.com/assets/colab-badge.svg\" alt=\"Open In Colab\"/></a>"
      ]
    },
    {
      "cell_type": "markdown",
      "source": [
        "#Condition Looping"
      ],
      "metadata": {
        "id": "YDlxw9SQ31WH"
      }
    },
    {
      "cell_type": "markdown",
      "source": [
        "Nama        : Syahrani Nabilla Pardede\n",
        "Kode Peserta: PYTN-KS08-013"
      ],
      "metadata": {
        "id": "gYrw9xje36er"
      }
    },
    {
      "cell_type": "markdown",
      "source": [
        "##Introduction To If Statement"
      ],
      "metadata": {
        "id": "LCWJhX8U4MTa"
      }
    },
    {
      "cell_type": "code",
      "execution_count": 1,
      "metadata": {
        "colab": {
          "base_uri": "https://localhost:8080/"
        },
        "id": "b6ucwm6A3Y53",
        "outputId": "4c7490d4-959e-4aae-9cf7-31e97d773ca0"
      },
      "outputs": [
        {
          "output_type": "stream",
          "name": "stdout",
          "text": [
            "selesai\n"
          ]
        }
      ],
      "source": [
        "if 'ba' in ['foo', 'bar', 'baz']:  # \n",
        "    print('yes')\n",
        "\n",
        "    print(\"DONE\")  \n",
        "print(\"selesai\") "
      ]
    },
    {
      "cell_type": "markdown",
      "source": [
        "##Grouping Statements: Indentation and Blocks"
      ],
      "metadata": {
        "id": "p1cUwz7-5eeI"
      }
    },
    {
      "cell_type": "code",
      "source": [
        "a = 3\n",
        "b = 2 \n",
        "\n",
        "if a > b: \n",
        "    print(\"Good\")\n",
        "    \n",
        "    print(\"Better\")\n",
        "\n",
        "print(\"Best\")"
      ],
      "metadata": {
        "colab": {
          "base_uri": "https://localhost:8080/"
        },
        "id": "HHAoj7-85gOO",
        "outputId": "14980594-5238-4074-eac1-b3dad99eef55"
      },
      "execution_count": 3,
      "outputs": [
        {
          "output_type": "stream",
          "name": "stdout",
          "text": [
            "Good\n",
            "Better\n",
            "Best\n"
          ]
        }
      ]
    },
    {
      "cell_type": "code",
      "source": [
        "if 'foo' in ['bar', 'baz', 'qux']:\n",
        "    print('Expression was true')\n",
        "    print('Executing statement in suite')\n",
        "    print('......')\n",
        "    print('Done.')\n",
        "print('After conditional')"
      ],
      "metadata": {
        "colab": {
          "base_uri": "https://localhost:8080/"
        },
        "id": "6BR5DFHx7Aat",
        "outputId": "46f4d24e-3755-4624-dd0f-1c4d613cc57f"
      },
      "execution_count": 5,
      "outputs": [
        {
          "output_type": "stream",
          "name": "stdout",
          "text": [
            "After conditional\n"
          ]
        }
      ]
    },
    {
      "cell_type": "code",
      "source": [
        "# Does line Execute?                    Yes     No\n",
        "#                                       ---    ----\n",
        "if 'foo' in ['foo', 'bar', 'baz']:    #  X\n",
        "    print('Outer Condition is true')  #  X\n",
        "    \n",
        "    if 10 > 20:                       #  X\n",
        "        print('Inner Condition 1')    #         X\n",
        "    \n",
        "    print('Between Inner Condition')  #  X\n",
        "    \n",
        "    if 10 < 20:                       #  X\n",
        "        print('Inner Condition 2')    #  X\n",
        "        \n",
        "    print('End of Outer Condition')   #  X\n",
        "print('After Outer Condition')        #  X"
      ],
      "metadata": {
        "colab": {
          "base_uri": "https://localhost:8080/"
        },
        "id": "bxgmnsa35qic",
        "outputId": "d5c90a51-8394-4313-b05c-343db0819889"
      },
      "execution_count": 4,
      "outputs": [
        {
          "output_type": "stream",
          "name": "stdout",
          "text": [
            "Outer Condition is true\n",
            "Between Inner Condition\n",
            "Inner Condition 2\n",
            "End of Outer Condition\n",
            "After Outer Condition\n"
          ]
        }
      ]
    },
    {
      "cell_type": "markdown",
      "source": [
        "##The else and elif clauses"
      ],
      "metadata": {
        "id": "QZurlb5P7IIH"
      }
    },
    {
      "cell_type": "code",
      "source": [
        "# x kurang dari 50\n",
        "\n",
        "x = 20\n",
        "\n",
        "if x < 50:\n",
        "    print('(first suite)')\n",
        "    print('x is small')\n",
        "else:\n",
        "    print('(second suite)')\n",
        "    print('x is Large')"
      ],
      "metadata": {
        "colab": {
          "base_uri": "https://localhost:8080/"
        },
        "id": "Q4bslK4g7LlC",
        "outputId": "0e26199e-c3e2-4844-84bc-a75dd8920793"
      },
      "execution_count": 6,
      "outputs": [
        {
          "output_type": "stream",
          "name": "stdout",
          "text": [
            "(first suite)\n",
            "x is small\n"
          ]
        }
      ]
    },
    {
      "cell_type": "code",
      "source": [
        "# x lebih besar dari 50\n",
        "\n",
        "x = 120\n",
        "\n",
        "if x < 50:\n",
        "    print('(first suite)')\n",
        "    print('x is small')\n",
        "else:\n",
        "    print('(second suite)')\n",
        "    print('x is Large')"
      ],
      "metadata": {
        "colab": {
          "base_uri": "https://localhost:8080/"
        },
        "id": "ZBdKrr957bfT",
        "outputId": "cd23ead1-cc5f-44a8-c46a-395e30de8972"
      },
      "execution_count": 7,
      "outputs": [
        {
          "output_type": "stream",
          "name": "stdout",
          "text": [
            "(second suite)\n",
            "x is Large\n"
          ]
        }
      ]
    },
    {
      "cell_type": "code",
      "source": [
        "# Another Example\n",
        "\n",
        "hargaBuku = 20000\n",
        "hargaMajalah = 5000\n",
        "uang = 2000\n",
        "\n",
        "if uang > hargaBuku:\n",
        "    print(\"Beli Buku\")\n",
        "else:\n",
        "    print(\"Uang Tidak Cukup\")"
      ],
      "metadata": {
        "colab": {
          "base_uri": "https://localhost:8080/"
        },
        "id": "n3d7O3MK7k-P",
        "outputId": "5a369dfc-dfdf-4b2e-c315-eefbebddf436"
      },
      "execution_count": 8,
      "outputs": [
        {
          "output_type": "stream",
          "name": "stdout",
          "text": [
            "Uang Tidak Cukup\n"
          ]
        }
      ]
    },
    {
      "cell_type": "code",
      "source": [
        "# Example \n",
        "\n",
        "name = \"Hacktiv8\"\n",
        "\n",
        "if name == \"Fred\":\n",
        "    print('Hello Fred')\n",
        "elif name == \"Xander\":\n",
        "    print(\"Hello Xander\")\n",
        "elif name == \"Hacktiv8\":\n",
        "    print(\"Hello Hactiv8\")\n",
        "elif name == \"Arnold\":\n",
        "    print(\"Hello Arnold\")\n",
        "else:\n",
        "    print(\"I don't know who you are!\")"
      ],
      "metadata": {
        "colab": {
          "base_uri": "https://localhost:8080/"
        },
        "id": "DOLPw7vZ7rVw",
        "outputId": "402a1150-597f-41a4-876d-9bb16d33231b"
      },
      "execution_count": 9,
      "outputs": [
        {
          "output_type": "stream",
          "name": "stdout",
          "text": [
            "Hello Hactiv8\n"
          ]
        }
      ]
    },
    {
      "cell_type": "markdown",
      "source": [
        "##One-Line If Statement"
      ],
      "metadata": {
        "id": "ugc_hsMS77m4"
      }
    },
    {
      "cell_type": "code",
      "source": [
        "if \"f\" in \"foo\": print(\"1\"); print(\"2\"); print(\"3\")"
      ],
      "metadata": {
        "colab": {
          "base_uri": "https://localhost:8080/"
        },
        "id": "wfE2xy2o8BxS",
        "outputId": "01dcd05c-5bbb-4f69-f981-425e80f95664"
      },
      "execution_count": 10,
      "outputs": [
        {
          "output_type": "stream",
          "name": "stdout",
          "text": [
            "1\n",
            "2\n",
            "3\n"
          ]
        }
      ]
    },
    {
      "cell_type": "code",
      "source": [
        "if \"z\" in \"foo\": print(\"1\"); print(\"2\"); print(\"3\")"
      ],
      "metadata": {
        "id": "6LSJD7hB8_sA"
      },
      "execution_count": 11,
      "outputs": []
    },
    {
      "cell_type": "code",
      "source": [
        "x = 2\n",
        "\n",
        "if x == 1: print(\"foo\"); print(\"bar\"); print(\"baz\")\n",
        "elif x == 2: print(\"qux\"); print(\"quux\")\n",
        "else: print(\"corge\"); print(\"grault\")"
      ],
      "metadata": {
        "colab": {
          "base_uri": "https://localhost:8080/"
        },
        "id": "ndAxt2N29Ehk",
        "outputId": "c08111b8-a8b3-4d9a-bbc4-d4b14ac69d3a"
      },
      "execution_count": 12,
      "outputs": [
        {
          "output_type": "stream",
          "name": "stdout",
          "text": [
            "qux\n",
            "quux\n"
          ]
        }
      ]
    },
    {
      "cell_type": "code",
      "source": [
        "x = 3\n",
        "\n",
        "if x == 1: print(\"foo\"); print(\"bar\"); print(\"baz\")\n",
        "elif x == 2: print(\"qux\"); print(\"quux\")\n",
        "else: print(\"corge\"); print(\"grault\")\n"
      ],
      "metadata": {
        "colab": {
          "base_uri": "https://localhost:8080/"
        },
        "id": "22J-1lIr9I8h",
        "outputId": "31740c35-fd7d-4f03-eeca-6294f09ac550"
      },
      "execution_count": 13,
      "outputs": [
        {
          "output_type": "stream",
          "name": "stdout",
          "text": [
            "corge\n",
            "grault\n"
          ]
        }
      ]
    },
    {
      "cell_type": "code",
      "source": [
        "x = 3\n",
        "\n",
        "if x == 1:\n",
        "    print(\"foo\")\n",
        "    print(\"bar\")\n",
        "    print(\"baz\")\n",
        "elif x == 2:\n",
        "    print(\"qux\")\n",
        "    print(\"quux\")\n",
        "else:\n",
        "    print(\"corge\")\n",
        "    print(\"grault\")"
      ],
      "metadata": {
        "colab": {
          "base_uri": "https://localhost:8080/"
        },
        "id": "p_oTt4Mv9ON1",
        "outputId": "2a8daaee-4c90-4981-f17a-e59c62e3c8b2"
      },
      "execution_count": 14,
      "outputs": [
        {
          "output_type": "stream",
          "name": "stdout",
          "text": [
            "corge\n",
            "grault\n"
          ]
        }
      ]
    },
    {
      "cell_type": "markdown",
      "source": [
        "##Conditional Expressions (Python's Ternary Operator)"
      ],
      "metadata": {
        "id": "nSymkMFs9Reh"
      }
    },
    {
      "cell_type": "code",
      "source": [
        "raining = False\n",
        "print(\"Let's go to the\", 'beach' if not raining else 'library')"
      ],
      "metadata": {
        "colab": {
          "base_uri": "https://localhost:8080/"
        },
        "id": "ZIKxHm9e9UsA",
        "outputId": "9c9f5e48-a966-4202-a139-572cd438a39d"
      },
      "execution_count": 15,
      "outputs": [
        {
          "output_type": "stream",
          "name": "stdout",
          "text": [
            "Let's go to the beach\n"
          ]
        }
      ]
    },
    {
      "cell_type": "code",
      "source": [
        "age = 12\n",
        "\n",
        "s = \"teen\" if age < 21 else \"adult\"\n",
        "s"
      ],
      "metadata": {
        "colab": {
          "base_uri": "https://localhost:8080/",
          "height": 36
        },
        "id": "fSUWvzJw9bEp",
        "outputId": "4e9ccac2-eb17-483a-9666-3e4d8b13e44b"
      },
      "execution_count": 16,
      "outputs": [
        {
          "output_type": "execute_result",
          "data": {
            "text/plain": [
              "'teen'"
            ],
            "application/vnd.google.colaboratory.intrinsic+json": {
              "type": "string"
            }
          },
          "metadata": {},
          "execution_count": 16
        }
      ]
    },
    {
      "cell_type": "code",
      "source": [
        "'yes' if ('qux' in ['foo', 'bar', 'baz']) else 'no'"
      ],
      "metadata": {
        "colab": {
          "base_uri": "https://localhost:8080/",
          "height": 36
        },
        "id": "IgURnzVu9fNc",
        "outputId": "74f14862-1c79-4d2f-a604-23a7d72a78a8"
      },
      "execution_count": 17,
      "outputs": [
        {
          "output_type": "execute_result",
          "data": {
            "text/plain": [
              "'no'"
            ],
            "application/vnd.google.colaboratory.intrinsic+json": {
              "type": "string"
            }
          },
          "metadata": {},
          "execution_count": 17
        }
      ]
    },
    {
      "cell_type": "markdown",
      "source": [
        "##The Python Pass Statment"
      ],
      "metadata": {
        "id": "dzbUV4nn_QJn"
      }
    },
    {
      "cell_type": "code",
      "source": [
        "x = 10 \n",
        "y = 11 \n",
        "if  x<y:\n",
        "    #Todo buat stament apa yang terjadi jika benar \n",
        "    pass  \n",
        "print('foo')"
      ],
      "metadata": {
        "colab": {
          "base_uri": "https://localhost:8080/"
        },
        "id": "LsfcZ4MOBeWl",
        "outputId": "652e007c-e3a8-41ba-823c-638114f75b89"
      },
      "execution_count": 20,
      "outputs": [
        {
          "output_type": "stream",
          "name": "stdout",
          "text": [
            "foo\n"
          ]
        }
      ]
    },
    {
      "cell_type": "code",
      "source": [
        "if True:\n",
        "    #Todo nanti akan ditambahkan \n",
        "    pass\n",
        "print('foo')"
      ],
      "metadata": {
        "colab": {
          "base_uri": "https://localhost:8080/"
        },
        "id": "sTibn7U7J8PF",
        "outputId": "16231d84-209d-4418-9dd0-56b49d5b2fba"
      },
      "execution_count": 21,
      "outputs": [
        {
          "output_type": "stream",
          "name": "stdout",
          "text": [
            "foo\n"
          ]
        }
      ]
    },
    {
      "cell_type": "code",
      "source": [
        "if True:\n",
        "    pass\n",
        "print(\"foo\")"
      ],
      "metadata": {
        "colab": {
          "base_uri": "https://localhost:8080/"
        },
        "id": "aZv2EZ3YKCrq",
        "outputId": "ad6d94e7-9571-401a-c1aa-11c17e3a05f5"
      },
      "execution_count": 22,
      "outputs": [
        {
          "output_type": "stream",
          "name": "stdout",
          "text": [
            "foo\n"
          ]
        }
      ]
    },
    {
      "cell_type": "markdown",
      "source": [
        "##Python \"While\" Loops"
      ],
      "metadata": {
        "id": "_-oSGcOpKGpx"
      }
    },
    {
      "cell_type": "code",
      "source": [
        "n = 5\n",
        "while n > 0:\n",
        "    n -= 1\n",
        "    print(n)"
      ],
      "metadata": {
        "colab": {
          "base_uri": "https://localhost:8080/"
        },
        "id": "e1H6BNruKJHv",
        "outputId": "2900fd7e-56f9-4c63-d276-846df03bca14"
      },
      "execution_count": 23,
      "outputs": [
        {
          "output_type": "stream",
          "name": "stdout",
          "text": [
            "4\n",
            "3\n",
            "2\n",
            "1\n",
            "0\n"
          ]
        }
      ]
    },
    {
      "cell_type": "code",
      "source": [
        "i = 1\n",
        "while i < 6:\n",
        "    print(i)\n",
        "    i += 1"
      ],
      "metadata": {
        "colab": {
          "base_uri": "https://localhost:8080/"
        },
        "id": "mic0H8MDKRxN",
        "outputId": "ebf6ca46-e707-4615-d4ff-058b63712268"
      },
      "execution_count": 24,
      "outputs": [
        {
          "output_type": "stream",
          "name": "stdout",
          "text": [
            "1\n",
            "2\n",
            "3\n",
            "4\n",
            "5\n"
          ]
        }
      ]
    },
    {
      "cell_type": "code",
      "source": [
        "# Example Code 1\n",
        "\n",
        "n = 5\n",
        "while n > 0:\n",
        "    n -= 1\n",
        "    if n == 2:\n",
        "        break # Break Statement\n",
        "    print(n)\n",
        "print(\"Loop Ended.\")"
      ],
      "metadata": {
        "colab": {
          "base_uri": "https://localhost:8080/"
        },
        "id": "mbMCeD6NKWH0",
        "outputId": "ec0c61c6-cf8e-478c-fcc4-de29a4fa3be7"
      },
      "execution_count": 25,
      "outputs": [
        {
          "output_type": "stream",
          "name": "stdout",
          "text": [
            "4\n",
            "3\n",
            "Loop Ended.\n"
          ]
        }
      ]
    },
    {
      "cell_type": "code",
      "source": [
        "# Example Code 2\n",
        "\n",
        "n = 5\n",
        "while n > 0:\n",
        "    n -= 1\n",
        "    if n == 2:\n",
        "        continue # continue Statement\n",
        "    print(n)\n",
        "print(\"Loop Ended.\")"
      ],
      "metadata": {
        "colab": {
          "base_uri": "https://localhost:8080/"
        },
        "id": "mlSe1UFGKZYx",
        "outputId": "2d088c2c-de0b-4b64-da52-cff8acc72e2f"
      },
      "execution_count": 26,
      "outputs": [
        {
          "output_type": "stream",
          "name": "stdout",
          "text": [
            "4\n",
            "3\n",
            "1\n",
            "0\n",
            "Loop Ended.\n"
          ]
        }
      ]
    },
    {
      "cell_type": "markdown",
      "source": [
        "###The Else Clauses"
      ],
      "metadata": {
        "id": "RwZDaWyoKjtd"
      }
    },
    {
      "cell_type": "code",
      "source": [
        "n = 5\n",
        "\n",
        "while n > 0:\n",
        "    n -= 1\n",
        "    print(n)\n",
        "else:\n",
        "    print(\"Loop Done\")"
      ],
      "metadata": {
        "colab": {
          "base_uri": "https://localhost:8080/"
        },
        "id": "EFDWySWKKgDz",
        "outputId": "6662ccfa-66f9-4dec-d220-7620bd484db3"
      },
      "execution_count": 27,
      "outputs": [
        {
          "output_type": "stream",
          "name": "stdout",
          "text": [
            "4\n",
            "3\n",
            "2\n",
            "1\n",
            "0\n",
            "Loop Done\n"
          ]
        }
      ]
    },
    {
      "cell_type": "code",
      "source": [
        "n = 5\n",
        "\n",
        "while n > 0:\n",
        "    n -= 1\n",
        "    print(n)\n",
        "    if n == 2:\n",
        "        break\n",
        "else:\n",
        "    print(\"Loop Done\")"
      ],
      "metadata": {
        "colab": {
          "base_uri": "https://localhost:8080/"
        },
        "id": "7VtzYUTRKm0w",
        "outputId": "5eb9468f-4ba6-4dbf-d1ab-87505852511a"
      },
      "execution_count": 28,
      "outputs": [
        {
          "output_type": "stream",
          "name": "stdout",
          "text": [
            "4\n",
            "3\n",
            "2\n"
          ]
        }
      ]
    },
    {
      "cell_type": "markdown",
      "source": [
        "###Nested While Loops"
      ],
      "metadata": {
        "id": "cmgp1nzgLV50"
      }
    },
    {
      "cell_type": "code",
      "source": [
        "a = [\"foo\", \"bar\"]\n",
        "\n",
        "while len(a):\n",
        "    print(a.pop(0))\n",
        "    \n",
        "    b = [\"baz\", \"qux\"]\n",
        "    \n",
        "    while len(b):\n",
        "        print(\">\", b.pop(0))"
      ],
      "metadata": {
        "colab": {
          "base_uri": "https://localhost:8080/"
        },
        "id": "5DTRwk81LdrG",
        "outputId": "3f0f859c-8ba1-4727-cf28-bd2a067fb4ae"
      },
      "execution_count": 29,
      "outputs": [
        {
          "output_type": "stream",
          "name": "stdout",
          "text": [
            "foo\n",
            "> baz\n",
            "> qux\n",
            "bar\n",
            "> baz\n",
            "> qux\n"
          ]
        }
      ]
    },
    {
      "cell_type": "markdown",
      "source": [
        "###One-Line while Loops"
      ],
      "metadata": {
        "id": "uHpCH2t5LqHW"
      }
    },
    {
      "cell_type": "code",
      "source": [
        "n = 5\n",
        "while n > 0: n -= 1; print(n)"
      ],
      "metadata": {
        "colab": {
          "base_uri": "https://localhost:8080/"
        },
        "id": "oEhymR4ILsNX",
        "outputId": "7154e47b-f80e-4266-e2d7-3e641b48e880"
      },
      "execution_count": 30,
      "outputs": [
        {
          "output_type": "stream",
          "name": "stdout",
          "text": [
            "4\n",
            "3\n",
            "2\n",
            "1\n",
            "0\n"
          ]
        }
      ]
    },
    {
      "cell_type": "markdown",
      "source": [
        "##The Python For Loops"
      ],
      "metadata": {
        "id": "qlQJO5CtL29F"
      }
    },
    {
      "cell_type": "code",
      "source": [
        "a = [\"foo\", \"bar\", \"baz\"]\n",
        "for i in a:\n",
        "    print(i)"
      ],
      "metadata": {
        "colab": {
          "base_uri": "https://localhost:8080/"
        },
        "id": "iqFplctWMQiE",
        "outputId": "706bf36d-1e3f-4222-959e-383a4eafc08e"
      },
      "execution_count": 33,
      "outputs": [
        {
          "output_type": "stream",
          "name": "stdout",
          "text": [
            "foo\n",
            "bar\n",
            "baz\n"
          ]
        }
      ]
    },
    {
      "cell_type": "code",
      "source": [
        "d = {\"foo\": 1, \"bar\":2, \"baz\":3}\n",
        "for k in d:\n",
        "    print(k)"
      ],
      "metadata": {
        "colab": {
          "base_uri": "https://localhost:8080/"
        },
        "id": "tE8wU7uJMTbD",
        "outputId": "5b44d088-39e3-4934-cc82-44ead4b8fb50"
      },
      "execution_count": 34,
      "outputs": [
        {
          "output_type": "stream",
          "name": "stdout",
          "text": [
            "foo\n",
            "bar\n",
            "baz\n"
          ]
        }
      ]
    },
    {
      "cell_type": "code",
      "source": [
        "for k in d:\n",
        "    print(d[k])"
      ],
      "metadata": {
        "colab": {
          "base_uri": "https://localhost:8080/"
        },
        "id": "x-A8DQaeMWSp",
        "outputId": "9a0c1a83-17fe-4183-edb1-3fa205c91cf4"
      },
      "execution_count": 35,
      "outputs": [
        {
          "output_type": "stream",
          "name": "stdout",
          "text": [
            "1\n",
            "2\n",
            "3\n"
          ]
        }
      ]
    },
    {
      "cell_type": "code",
      "source": [
        "for k, v in d.items():\n",
        "    print(k, \":\", v)"
      ],
      "metadata": {
        "colab": {
          "base_uri": "https://localhost:8080/"
        },
        "id": "y2vIzJu3MdPH",
        "outputId": "23b67db3-79f8-4d3e-e12e-62eb6a4dea2b"
      },
      "execution_count": 37,
      "outputs": [
        {
          "output_type": "stream",
          "name": "stdout",
          "text": [
            "foo : 1\n",
            "bar : 2\n",
            "baz : 3\n"
          ]
        }
      ]
    },
    {
      "cell_type": "markdown",
      "source": [
        "##Iterating Through a Dictionary"
      ],
      "metadata": {
        "id": "WDsrekkwMoU_"
      }
    },
    {
      "cell_type": "code",
      "source": [
        "d = {\"foo\": 1, \"bar\": 2, \"baz\": 3}\n",
        "for k in d:\n",
        "    print(k)"
      ],
      "metadata": {
        "colab": {
          "base_uri": "https://localhost:8080/"
        },
        "id": "PCi2oSVZMmQa",
        "outputId": "8c1ef9e2-4150-431e-f6a9-0c5ab75519e6"
      },
      "execution_count": 38,
      "outputs": [
        {
          "output_type": "stream",
          "name": "stdout",
          "text": [
            "foo\n",
            "bar\n",
            "baz\n"
          ]
        }
      ]
    },
    {
      "cell_type": "code",
      "source": [
        "# Untuk mengakses nilai dictionary dalam loop, dapat membuat referensi dictionary. Seperti contoh berikut\n",
        "\n",
        "for k in d:\n",
        "    print(d[k])"
      ],
      "metadata": {
        "colab": {
          "base_uri": "https://localhost:8080/"
        },
        "id": "Gi7kQh4_M3G6",
        "outputId": "7e247c78-e948-4fa3-80f4-27a87d202a03"
      },
      "execution_count": 39,
      "outputs": [
        {
          "output_type": "stream",
          "name": "stdout",
          "text": [
            "1\n",
            "2\n",
            "3\n"
          ]
        }
      ]
    },
    {
      "cell_type": "code",
      "source": [
        "for v in d.values():\n",
        "    print(v)"
      ],
      "metadata": {
        "colab": {
          "base_uri": "https://localhost:8080/"
        },
        "id": "QdIRxsIRM6Xs",
        "outputId": "fb094a37-a041-428d-e8ed-1c4e856f9909"
      },
      "execution_count": 40,
      "outputs": [
        {
          "output_type": "stream",
          "name": "stdout",
          "text": [
            "1\n",
            "2\n",
            "3\n"
          ]
        }
      ]
    },
    {
      "cell_type": "markdown",
      "source": [
        "##The Range () Function"
      ],
      "metadata": {
        "id": "ZPew3ijfM-ns"
      }
    },
    {
      "cell_type": "code",
      "source": [
        "for n in (0, 1, 3, 4):\n",
        "    print(n)"
      ],
      "metadata": {
        "colab": {
          "base_uri": "https://localhost:8080/"
        },
        "id": "1x0JotmmNBAk",
        "outputId": "9245ba6b-1db5-4a7c-9336-cf473660f647"
      },
      "execution_count": 41,
      "outputs": [
        {
          "output_type": "stream",
          "name": "stdout",
          "text": [
            "0\n",
            "1\n",
            "3\n",
            "4\n"
          ]
        }
      ]
    },
    {
      "cell_type": "markdown",
      "source": [
        "##Altering for Loop Behavior"
      ],
      "metadata": {
        "id": "lqToPBVgNIgU"
      }
    },
    {
      "cell_type": "code",
      "source": [
        "### The Break and Continue Statements\n",
        "\n",
        "for i in [\"foo\", \"bar\", \"baz\", \"qux\"]:\n",
        "    if \"b\" in i:\n",
        "        break\n",
        "    print(i)"
      ],
      "metadata": {
        "colab": {
          "base_uri": "https://localhost:8080/"
        },
        "id": "6pJ7UN-kNF0u",
        "outputId": "49694e93-25fe-42c9-ecf6-b983211b4c9e"
      },
      "execution_count": 42,
      "outputs": [
        {
          "output_type": "stream",
          "name": "stdout",
          "text": [
            "foo\n"
          ]
        }
      ]
    },
    {
      "cell_type": "code",
      "source": [
        "for i in [\"foo\", \"bar\", \"baz\", \"qux\"]:\n",
        "    if \"b\" in i:\n",
        "        continue\n",
        "    print(i)"
      ],
      "metadata": {
        "colab": {
          "base_uri": "https://localhost:8080/"
        },
        "id": "oObojLLRNM0T",
        "outputId": "9ef2e438-57a2-4f91-f5a1-e155cc6f3d65"
      },
      "execution_count": 43,
      "outputs": [
        {
          "output_type": "stream",
          "name": "stdout",
          "text": [
            "foo\n",
            "qux\n"
          ]
        }
      ]
    },
    {
      "cell_type": "markdown",
      "source": [
        "##The else Clause"
      ],
      "metadata": {
        "id": "mjCEkqxwNoL5"
      }
    },
    {
      "cell_type": "code",
      "source": [
        "for i in [\"foo\", \"bar\", \"baz\", \"qux\"]:\n",
        "    print(i)\n",
        "else:\n",
        "    print(\"Done.\") # Will Execute"
      ],
      "metadata": {
        "colab": {
          "base_uri": "https://localhost:8080/"
        },
        "id": "c77cpWr3Nl2m",
        "outputId": "0f455518-b8db-4612-f96d-60b7b76692d6"
      },
      "execution_count": 44,
      "outputs": [
        {
          "output_type": "stream",
          "name": "stdout",
          "text": [
            "foo\n",
            "bar\n",
            "baz\n",
            "qux\n",
            "Done.\n"
          ]
        }
      ]
    },
    {
      "cell_type": "code",
      "source": [
        "# Klausa else tidak akan dijalankan jika list terhenti dengan pernyataan break:\n",
        "\n",
        "for i in [\"foo\", \"bar\", \"baz\", \"qux\"]:\n",
        "    if i == \"bar\":\n",
        "        break\n",
        "    print(i)\n",
        "else:\n",
        "    print(\"Done.\") # Will Not Execute"
      ],
      "metadata": {
        "colab": {
          "base_uri": "https://localhost:8080/"
        },
        "id": "bATtaQM1Ntwq",
        "outputId": "bfffe156-c336-43b3-dd25-283f22ca63f9"
      },
      "execution_count": 45,
      "outputs": [
        {
          "output_type": "stream",
          "name": "stdout",
          "text": [
            "foo\n"
          ]
        }
      ]
    },
    {
      "cell_type": "code",
      "source": [
        "# Another Example\n",
        "temp = input(\"Ketikkan temperatur yang ingin dikonversi, eg.45F, 120C: \")\n",
        "degree = int(temp[:-1])\n",
        "i_convertion = temp[-1]\n",
        "\n",
        "print (i_convertion)\n",
        "result = 0\n",
        "\n",
        "if i_convertion == \"C\":\n",
        "    result1 = int(round((9 * degree) / 5 + 32))\n",
        "elif i_convertion == \"F\":\n",
        "    result1 = int(round((degree - 32) * 5 / 9))\n",
        "else:\n",
        "    print(\"Masukan Input yang Benar\")\n",
        "    \n",
        "print(\"Temperaturnya adalah\", result1, \"derajat\")"
      ],
      "metadata": {
        "colab": {
          "base_uri": "https://localhost:8080/"
        },
        "id": "R8JYBrcyNyzw",
        "outputId": "e1c0eda8-bf29-42f5-8aef-708c76106370"
      },
      "execution_count": 47,
      "outputs": [
        {
          "output_type": "stream",
          "name": "stdout",
          "text": [
            "Ketikkan temperatur yang ingin dikonversi, eg.45F, 120C: 67F\n",
            "F\n",
            "Temperaturnya adalah 19 derajat\n"
          ]
        }
      ]
    },
    {
      "cell_type": "code",
      "source": [
        "while True:\n",
        "    msg = input(\"Ketikan Karakter: \").lower()\n",
        "    print(msg)\n",
        "    if msg == \"stop\":\n",
        "        break"
      ],
      "metadata": {
        "colab": {
          "base_uri": "https://localhost:8080/"
        },
        "id": "lMjwP9f0OBTT",
        "outputId": "f9d6b5e4-6e72-4a37-b386-48d1dc07327d"
      },
      "execution_count": 48,
      "outputs": [
        {
          "output_type": "stream",
          "name": "stdout",
          "text": [
            "Ketikan Karakter: Hai\n",
            "hai\n",
            "Ketikan Karakter: Hallo\n",
            "hallo\n",
            "Ketikan Karakter: stop\n",
            "stop\n"
          ]
        }
      ]
    }
  ]
}