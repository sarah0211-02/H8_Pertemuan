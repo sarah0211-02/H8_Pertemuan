{
  "nbformat": 4,
  "nbformat_minor": 0,
  "metadata": {
    "colab": {
      "provenance": [],
      "authorship_tag": "ABX9TyO4UkCKlxF0nSGz+C/O2PyN",
      "include_colab_link": true
    },
    "kernelspec": {
      "name": "python3",
      "display_name": "Python 3"
    },
    "language_info": {
      "name": "python"
    }
  },
  "cells": [
    {
      "cell_type": "markdown",
      "metadata": {
        "id": "view-in-github",
        "colab_type": "text"
      },
      "source": [
        "<a href=\"https://colab.research.google.com/github/sarah0211-02/H8_Pertemuan/blob/master/H8_Pertemuan3.ipynb\" target=\"_parent\"><img src=\"https://colab.research.google.com/assets/colab-badge.svg\" alt=\"Open In Colab\"/></a>"
      ]
    },
    {
      "cell_type": "markdown",
      "source": [
        "#Function, Basic Module, and Package"
      ],
      "metadata": {
        "id": "-eb0y5ICSI54"
      }
    },
    {
      "cell_type": "markdown",
      "source": [
        "Oleh: Syahrani Nabilla Pardede (PYTN-KS08-013)"
      ],
      "metadata": {
        "id": "60xMSEB9SK7E"
      }
    },
    {
      "cell_type": "markdown",
      "source": [
        "##Defining a Function"
      ],
      "metadata": {
        "id": "tkpMwPwSSQSA"
      }
    },
    {
      "cell_type": "code",
      "execution_count": 1,
      "metadata": {
        "id": "r5z19rH-QZ81"
      },
      "outputs": [],
      "source": [
        "def my_function(p, l):\n",
        "    \"Function untuk menghitung luas\"\n",
        "    print(p * l)"
      ]
    },
    {
      "cell_type": "code",
      "source": [
        "my_function(2,4)"
      ],
      "metadata": {
        "colab": {
          "base_uri": "https://localhost:8080/"
        },
        "id": "BW-eGZF6Sszm",
        "outputId": "f30314fa-8422-4dab-fde4-94973282ffb6"
      },
      "execution_count": 2,
      "outputs": [
        {
          "output_type": "stream",
          "name": "stdout",
          "text": [
            "8\n"
          ]
        }
      ]
    },
    {
      "cell_type": "code",
      "source": [
        "def printme( str ):\n",
        "    \"This prints a passed string into this function\"\n",
        "    print( str )\n",
        "    return"
      ],
      "metadata": {
        "id": "SKkiDd0xS1Rq"
      },
      "execution_count": 3,
      "outputs": []
    },
    {
      "cell_type": "markdown",
      "source": [
        "##Calling Function"
      ],
      "metadata": {
        "id": "XJ0GpnXUS2i4"
      }
    },
    {
      "cell_type": "code",
      "source": [
        "# Pendefinisian Fungsi di sini\n",
        "def printme( str ):\n",
        "    \"This prints a passed string into this function\"\n",
        "    print( str )\n",
        "    return;\n",
        "\n",
        "# Cara memanggil fungsi printme\n",
        "printme(\"I'm first call to user defined function!\")\n",
        "printme(\"Again second calll to the same function\")"
      ],
      "metadata": {
        "colab": {
          "base_uri": "https://localhost:8080/"
        },
        "id": "vavyHONsS9aq",
        "outputId": "a14f4315-76cf-4093-cd84-08d6291f623d"
      },
      "execution_count": 4,
      "outputs": [
        {
          "output_type": "stream",
          "name": "stdout",
          "text": [
            "I'm first call to user defined function!\n",
            "Again second calll to the same function\n"
          ]
        }
      ]
    },
    {
      "cell_type": "markdown",
      "source": [
        "##Pass by Reference vs Value"
      ],
      "metadata": {
        "id": "9AkKR56iTEMX"
      }
    },
    {
      "cell_type": "code",
      "source": [
        "# Contoh 1\n",
        "\n",
        "# Pendefinisian Fungsi di sini\n",
        "def changeme( mylist ):\n",
        "    \"This changes a passed list into this function\"\n",
        "    mylist.append([1,2,3,4]);\n",
        "    print(\"Values inside the function: \", mylist)\n",
        "    return\n",
        "\n",
        "# Cara manggil fungsi changeme\n",
        "mylist = [ 10,20,30 ];\n",
        "changeme(mylist);\n",
        "print(\"Values outside the function: \", mylist)"
      ],
      "metadata": {
        "colab": {
          "base_uri": "https://localhost:8080/"
        },
        "id": "CgCjT2mkTCBf",
        "outputId": "bcf38c83-7e07-49d2-89e0-a9b4950a3f62"
      },
      "execution_count": 5,
      "outputs": [
        {
          "output_type": "stream",
          "name": "stdout",
          "text": [
            "Values inside the function:  [10, 20, 30, [1, 2, 3, 4]]\n",
            "Values outside the function:  [10, 20, 30, [1, 2, 3, 4]]\n"
          ]
        }
      ]
    },
    {
      "cell_type": "code",
      "source": [
        "# Contoh 2\n",
        "\n",
        "def changeme( mylist ):\n",
        "    \"This changes a passed list into this function\"\n",
        "    mylist = [1,2,3,4]; # This would assign new references in mylist\n",
        "    print(\"Values inside the function: \", mylist)\n",
        "    return\n",
        "\n",
        "# Cara memanggil fungsi changeme\n",
        "mylist = [10,20,30];\n",
        "changeme( mylist );\n",
        "print(\"Values outside the function: \", mylist)"
      ],
      "metadata": {
        "colab": {
          "base_uri": "https://localhost:8080/"
        },
        "id": "YirmEbPJTI1S",
        "outputId": "70755e2a-e46b-4843-9054-45fd2de06a0d"
      },
      "execution_count": 6,
      "outputs": [
        {
          "output_type": "stream",
          "name": "stdout",
          "text": [
            "Values inside the function:  [1, 2, 3, 4]\n",
            "Values outside the function:  [10, 20, 30]\n"
          ]
        }
      ]
    },
    {
      "cell_type": "markdown",
      "source": [
        "##Function Argument"
      ],
      "metadata": {
        "id": "Gp5OszMHTOnq"
      }
    },
    {
      "cell_type": "markdown",
      "source": [
        "###Required arguments"
      ],
      "metadata": {
        "id": "mqldBfbUTRPl"
      }
    },
    {
      "cell_type": "code",
      "source": [
        "# Hasil Error\n",
        "\n",
        "# Pendefinisian Fungsi\n",
        "def printme( str ):\n",
        "    \"This prints a passed string into this function\"\n",
        "    print( str )\n",
        "    return;\n",
        "\n",
        "# Pemanggilan Fungsi printme\n",
        "printme()"
      ],
      "metadata": {
        "colab": {
          "base_uri": "https://localhost:8080/",
          "height": 200
        },
        "id": "2XssfMxvTNJR",
        "outputId": "950f7add-2f45-4f0e-e7b5-308b4324e8e1"
      },
      "execution_count": 7,
      "outputs": [
        {
          "output_type": "error",
          "ename": "TypeError",
          "evalue": "ignored",
          "traceback": [
            "\u001b[0;31m---------------------------------------------------------------------------\u001b[0m",
            "\u001b[0;31mTypeError\u001b[0m                                 Traceback (most recent call last)",
            "\u001b[0;32m<ipython-input-7-287f6eac2d9f>\u001b[0m in \u001b[0;36m<module>\u001b[0;34m\u001b[0m\n\u001b[1;32m      8\u001b[0m \u001b[0;34m\u001b[0m\u001b[0m\n\u001b[1;32m      9\u001b[0m \u001b[0;31m# Pemanggilan Fungsi printme\u001b[0m\u001b[0;34m\u001b[0m\u001b[0;34m\u001b[0m\u001b[0;34m\u001b[0m\u001b[0m\n\u001b[0;32m---> 10\u001b[0;31m \u001b[0mprintme\u001b[0m\u001b[0;34m(\u001b[0m\u001b[0;34m)\u001b[0m\u001b[0;34m\u001b[0m\u001b[0;34m\u001b[0m\u001b[0m\n\u001b[0m",
            "\u001b[0;31mTypeError\u001b[0m: printme() missing 1 required positional argument: 'str'"
          ]
        }
      ]
    },
    {
      "cell_type": "markdown",
      "source": [
        "###Keyword Arguments"
      ],
      "metadata": {
        "id": "3m1sTMEnTdZA"
      }
    },
    {
      "cell_type": "code",
      "source": [
        "# Contoh 1\n",
        "\n",
        "# Pendefinisian Fungsi\n",
        "def printme( str ):\n",
        "    \"This prints a passed string into this function\"\n",
        "    print( str )\n",
        "    return;\n",
        "\n",
        "# Pemanggilan Fungsi printme\n",
        "printme(str = \"Hacktiv8\")"
      ],
      "metadata": {
        "colab": {
          "base_uri": "https://localhost:8080/"
        },
        "id": "K7UVipuvTcvd",
        "outputId": "2a3385e0-6b8a-4e97-f0dd-7037ed59b614"
      },
      "execution_count": 8,
      "outputs": [
        {
          "output_type": "stream",
          "name": "stdout",
          "text": [
            "Hacktiv8\n"
          ]
        }
      ]
    },
    {
      "cell_type": "code",
      "source": [
        "# Contoh 2\n",
        "\n",
        "# Pendefinisian Fungsi\n",
        "def printinfo( name, age ):\n",
        "    \"This prints a passed string into this function\"\n",
        "    print(\"Name : \", name)\n",
        "    print(\"Age : \", age)\n",
        "    return;\n",
        "\n",
        "# Pemanggilan Fungsi printme\n",
        "printinfo(age = 4, name = \"Hacktiv8\")"
      ],
      "metadata": {
        "colab": {
          "base_uri": "https://localhost:8080/"
        },
        "id": "VsesLzqMTjgf",
        "outputId": "44e04547-1a75-4510-d331-9891174648b7"
      },
      "execution_count": 9,
      "outputs": [
        {
          "output_type": "stream",
          "name": "stdout",
          "text": [
            "Name :  Hacktiv8\n",
            "Age :  4\n"
          ]
        }
      ]
    },
    {
      "cell_type": "markdown",
      "source": [
        "###Default Arguments"
      ],
      "metadata": {
        "id": "Z1dTEttjTp7z"
      }
    },
    {
      "cell_type": "code",
      "source": [
        "# Pendefinisian Fungsi\n",
        "def printinfo( name, age = 26 ):\n",
        "    \"This prints a passed string into this function\"\n",
        "    print(\"Name : \", name)\n",
        "    print(\"Age : \", age)\n",
        "    return;\n",
        "\n",
        "# Pemanggilan Fungsi printme\n",
        "printinfo(age = 50, name = \"Hacktiv8\")\n",
        "printinfo(name = \"hacktiv\")"
      ],
      "metadata": {
        "colab": {
          "base_uri": "https://localhost:8080/"
        },
        "id": "aEtXDMXHTsN5",
        "outputId": "e7cbb007-94c8-41b9-a60c-568822eef3be"
      },
      "execution_count": 10,
      "outputs": [
        {
          "output_type": "stream",
          "name": "stdout",
          "text": [
            "Name :  Hacktiv8\n",
            "Age :  50\n",
            "Name :  hacktiv\n",
            "Age :  26\n"
          ]
        }
      ]
    },
    {
      "cell_type": "markdown",
      "source": [
        "###Variabel-Length Arguments"
      ],
      "metadata": {
        "id": "7rN1_xR7Tzh3"
      }
    },
    {
      "cell_type": "code",
      "source": [
        "def printinfo( arg1, *vartuple ):\n",
        "    \"This prints a variabel passed arguments\"\n",
        "    print(\"Output is : \")\n",
        "    print(arg1)\n",
        "    for var in vartuple:\n",
        "        print(var)\n",
        "    return;\n",
        "\n",
        "# Pemanggilan Fungsi printme\n",
        "printinfo( 10 )\n",
        "printinfo( 70, 60, 50, \"a\" )"
      ],
      "metadata": {
        "colab": {
          "base_uri": "https://localhost:8080/"
        },
        "id": "POiGkiEjTyIc",
        "outputId": "0e8aaec4-f979-401b-ca65-c91f9156fd19"
      },
      "execution_count": 11,
      "outputs": [
        {
          "output_type": "stream",
          "name": "stdout",
          "text": [
            "Output is : \n",
            "10\n",
            "Output is : \n",
            "70\n",
            "60\n",
            "50\n",
            "a\n"
          ]
        }
      ]
    },
    {
      "cell_type": "markdown",
      "source": [
        "##The Anonymous Function"
      ],
      "metadata": {
        "id": "hyOtw23PUFqT"
      }
    },
    {
      "cell_type": "markdown",
      "source": [
        "###Contoh syntax dari lambda functions yang mengandung hanya single statement"
      ],
      "metadata": {
        "id": "e46xZNu3UJmr"
      }
    },
    {
      "cell_type": "code",
      "source": [
        "sum = lambda arg1, arg2: arg1 + arg2;\n",
        "\n",
        "print(\"Value of total: \", sum( 10, 20 ))\n",
        "print(\"Value of total: \", sum( 20, 20 ))\n",
        "\n",
        "def sum(arg1,arg2):\n",
        "    arg1 + arg2\n",
        "\n",
        "# Pemanggilan sum sebagai fungsi\n",
        "print(\"\")\n",
        "print(\"Value of total: \", sum( 10, 20 ))\n",
        "print(\"Value of total: \", sum( 20, 20 ))"
      ],
      "metadata": {
        "colab": {
          "base_uri": "https://localhost:8080/"
        },
        "id": "Y5xf7y8dUDEB",
        "outputId": "91a05f11-76c1-4450-e722-dc95bf475763"
      },
      "execution_count": 12,
      "outputs": [
        {
          "output_type": "stream",
          "name": "stdout",
          "text": [
            "Value of total:  30\n",
            "Value of total:  40\n",
            "\n",
            "Value of total:  None\n",
            "Value of total:  None\n"
          ]
        }
      ]
    },
    {
      "cell_type": "markdown",
      "source": [
        "##The return Statement"
      ],
      "metadata": {
        "id": "J-ihjeK8UVk-"
      }
    },
    {
      "cell_type": "markdown",
      "source": [
        "###Contoh cara mengembalikan nilai dari fungsi"
      ],
      "metadata": {
        "id": "8iW0d5P9UX6a"
      }
    },
    {
      "cell_type": "code",
      "source": [
        "# Pendefinisian Fungsi\n",
        "def sum( arg1, arg2 ):\n",
        "    \"Add both the parameters and return them.\"\n",
        "    total = arg1 + arg2\n",
        "    total2 = total + arg1\n",
        "    print(\"Inside the function: \", total)\n",
        "    return total2\n",
        "\n",
        "# Pemanggilan Fungsi sum\n",
        "total = sum(10,20)\n",
        "print(\"Outside the function : \", total)"
      ],
      "metadata": {
        "colab": {
          "base_uri": "https://localhost:8080/"
        },
        "id": "3rGLb1RGUU2X",
        "outputId": "c3c7bb31-855c-48b0-d3e2-f3c25aa746a9"
      },
      "execution_count": 13,
      "outputs": [
        {
          "output_type": "stream",
          "name": "stdout",
          "text": [
            "Inside the function:  30\n",
            "Outside the function :  40\n"
          ]
        }
      ]
    },
    {
      "cell_type": "markdown",
      "source": [
        "##Scope Of Variables"
      ],
      "metadata": {
        "id": "KhM_BgUxUiH6"
      }
    },
    {
      "cell_type": "markdown",
      "source": [
        "###Global vs Local Variales"
      ],
      "metadata": {
        "id": "-A6_iLWQUklK"
      }
    },
    {
      "cell_type": "code",
      "source": [
        "# Contoh 1\n",
        "\n",
        "total = 0;\n",
        "\n",
        "def sum(arg1, arg2):\n",
        "    \n",
        "    total = arg1 + arg2;\n",
        "    print(\"Inside the function local total: \", total)\n",
        "    return total;\n",
        "\n",
        "sum(10,20);\n",
        "print(\"Outside the function global total : \", total)"
      ],
      "metadata": {
        "colab": {
          "base_uri": "https://localhost:8080/"
        },
        "id": "UoHJkYxFUg-E",
        "outputId": "6cf734db-2a3d-496f-e029-0849a73a0dad"
      },
      "execution_count": 14,
      "outputs": [
        {
          "output_type": "stream",
          "name": "stdout",
          "text": [
            "Inside the function local total:  30\n",
            "Outside the function global total :  0\n"
          ]
        }
      ]
    },
    {
      "cell_type": "code",
      "source": [
        "# Contoh 2\n",
        "\n",
        "jumlahKucing = 20\n",
        "\n",
        "def jumlahHewan():\n",
        "    jumlahAnjing = 30\n",
        "    return jumlahKucing + jumlahAnjing\n",
        "\n",
        "def jumlahKelinci():\n",
        "    return jumlahKucing + jumlahKucing\n",
        "\n",
        "jumlahHewan()\n",
        "jumlahKelinci()"
      ],
      "metadata": {
        "colab": {
          "base_uri": "https://localhost:8080/"
        },
        "id": "NdwDN9oiUveu",
        "outputId": "bcf407f2-454f-4a9e-a07b-0115f319cdba"
      },
      "execution_count": 15,
      "outputs": [
        {
          "output_type": "execute_result",
          "data": {
            "text/plain": [
              "40"
            ]
          },
          "metadata": {},
          "execution_count": 15
        }
      ]
    },
    {
      "cell_type": "markdown",
      "source": [
        "##Python Modules: Overview"
      ],
      "metadata": {
        "id": "zJ5nGy-dU0xl"
      }
    },
    {
      "cell_type": "markdown",
      "source": [
        "###Pendahuluan"
      ],
      "metadata": {
        "id": "ttTtJiH4U3c0"
      }
    },
    {
      "cell_type": "code",
      "source": [
        "s = \"Hacktiv8-PTP Python For Data Science\"\n",
        "a = [100,200,300]\n",
        "\n",
        "def foo(arg):\n",
        "    print(f'arg = {arg}')\n",
        "\n",
        "class Foo:\n",
        "    pass"
      ],
      "metadata": {
        "id": "GPfPD2QQU0Kk"
      },
      "execution_count": 16,
      "outputs": []
    },
    {
      "cell_type": "markdown",
      "source": [
        "###Objek ini dapat diakses dengan mengimpor modul dengan cara sebagai berikut"
      ],
      "metadata": {
        "id": "oeg-LSX2U_Xx"
      }
    },
    {
      "cell_type": "code",
      "source": [
        "# >>> import mod\n",
        "# >>> print(mod.s)\n",
        "# Hacktiv8-PTP Python For Data Science\n",
        "# >>> mod.a\n",
        "# [100,200,300]\n",
        "# >>> mod.foo(['quux','corge','grault'])\n",
        "# arg = ['quux', 'corge', 'grault']\n",
        "# >>> x = mod.Foo()\n",
        "# >>> x\n",
        "# "
      ],
      "metadata": {
        "id": "_Kw5qdO-U9Po"
      },
      "execution_count": 17,
      "outputs": []
    },
    {
      "cell_type": "markdown",
      "source": [
        "##Python Packages"
      ],
      "metadata": {
        "id": "O8ePjxJMVIbz"
      }
    },
    {
      "cell_type": "code",
      "source": [
        "# Contoh 1\n",
        "\n",
        "def foo(arg):\n",
        "    print(f'arg = {arg}')\n",
        "\n",
        "class Foo:\n",
        "    pass"
      ],
      "metadata": {
        "id": "ljelwm3_VHvQ"
      },
      "execution_count": 19,
      "outputs": []
    },
    {
      "cell_type": "code",
      "source": [
        "# Contoh 2\n",
        "\n",
        "def bar(arg):\n",
        "    print(f'arg = {arg}')\n",
        "\n",
        "class Bar:\n",
        "    pass"
      ],
      "metadata": {
        "id": "NSF8ZRj1VMju"
      },
      "execution_count": 18,
      "outputs": []
    }
  ]
}